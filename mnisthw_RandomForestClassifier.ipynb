{
  "nbformat": 4,
  "nbformat_minor": 0,
  "metadata": {
    "colab": {
      "name": "mnisthw_RandomForestClassifier.ipynb",
      "provenance": [],
      "collapsed_sections": [],
      "include_colab_link": true
    },
    "kernelspec": {
      "name": "python3",
      "display_name": "Python 3"
    }
  },
  "cells": [
    {
      "cell_type": "markdown",
      "metadata": {
        "id": "view-in-github",
        "colab_type": "text"
      },
      "source": [
        "<a href=\"https://colab.research.google.com/github/great-simonlee/Data_Science_Portfolio.github.io/blob/master/mnisthw_RandomForestClassifier.ipynb\" target=\"_parent\"><img src=\"https://colab.research.google.com/assets/colab-badge.svg\" alt=\"Open In Colab\"/></a>"
      ]
    },
    {
      "cell_type": "code",
      "metadata": {
        "id": "8Nl5UHcN-Brr",
        "colab_type": "code",
        "colab": {}
      },
      "source": [
        "import os\n",
        "import tensorflow as tf\n",
        "import numpy as np\n",
        "import pandas as pd\n",
        "import matplotlib.pyplot as plt\n",
        "%config InlineBackend.figure_format='svg'\n",
        "\n",
        "from sklearn.ensemble import RandomForestClassifier\n",
        "from sklearn.tree import DecisionTreeClassifier\n",
        "from sklearn.metrics import confusion_matrix\n",
        "\n",
        "import warnings\n",
        "warnings.filterwarnings('ignore')"
      ],
      "execution_count": 0,
      "outputs": []
    },
    {
      "cell_type": "code",
      "metadata": {
        "id": "LoGr_4Vr9eA_",
        "colab_type": "code",
        "outputId": "806b28ab-abaa-4ba9-f2a9-9a64ccb99656",
        "colab": {
          "resources": {
            "http://localhost:8080/nbextensions/google.colab/files.js": {
              "data": "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",
              "ok": true,
              "headers": [
                [
                  "content-type",
                  "application/javascript"
                ]
              ],
              "status": 200,
              "status_text": ""
            }
          },
          "base_uri": "https://localhost:8080/",
          "height": 88
        }
      },
      "source": [
        "from google.colab import files\n",
        "files.upload()"
      ],
      "execution_count": 3,
      "outputs": [
        {
          "output_type": "display_data",
          "data": {
            "text/html": [
              "\n",
              "     <input type=\"file\" id=\"files-05f67238-b3a1-48ba-9fb8-6220703449d5\" name=\"files[]\" multiple disabled />\n",
              "     <output id=\"result-05f67238-b3a1-48ba-9fb8-6220703449d5\">\n",
              "      Upload widget is only available when the cell has been executed in the\n",
              "      current browser session. Please rerun this cell to enable.\n",
              "      </output>\n",
              "      <script src=\"/nbextensions/google.colab/files.js\"></script> "
            ],
            "text/plain": [
              "<IPython.core.display.HTML object>"
            ]
          },
          "metadata": {
            "tags": []
          }
        },
        {
          "output_type": "stream",
          "text": [
            "Saving kaggle.json to kaggle.json\n"
          ],
          "name": "stdout"
        },
        {
          "output_type": "execute_result",
          "data": {
            "text/plain": [
              "{'kaggle.json': b'{\"username\":\"greatsimonlee\",\"key\":\"ce762d662e834c893fbc9e00799072ff\"}'}"
            ]
          },
          "metadata": {
            "tags": []
          },
          "execution_count": 3
        }
      ]
    },
    {
      "cell_type": "code",
      "metadata": {
        "id": "xZnVnIxU-YPy",
        "colab_type": "code",
        "colab": {}
      },
      "source": [
        "!mkdir -p ~/.kaggle\n",
        "!cp kaggle.json ~/.kaggle/\n",
        "\n",
        "!chmod 600 ~/.kaggle/kaggle.json"
      ],
      "execution_count": 0,
      "outputs": []
    },
    {
      "cell_type": "code",
      "metadata": {
        "id": "wA-_Cxnh-YNW",
        "colab_type": "code",
        "outputId": "8eedaf9f-5666-4385-f31c-5f40d4b223d5",
        "colab": {
          "base_uri": "https://localhost:8080/",
          "height": 187
        }
      },
      "source": [
        "!kaggle competitions download -c digit-recognizer"
      ],
      "execution_count": 5,
      "outputs": [
        {
          "output_type": "stream",
          "text": [
            "Warning: Looks like you're using an outdated API Version, please consider updating (server 1.5.6 / client 1.5.4)\n",
            "Downloading train.csv to /content\n",
            " 92% 67.0M/73.2M [00:01<00:00, 30.8MB/s]\n",
            "100% 73.2M/73.2M [00:01<00:00, 50.6MB/s]\n",
            "Downloading test.csv to /content\n",
            " 84% 41.0M/48.8M [00:01<00:00, 17.7MB/s]\n",
            "100% 48.8M/48.8M [00:01<00:00, 25.9MB/s]\n",
            "Downloading sample_submission.csv to /content\n",
            "  0% 0.00/235k [00:00<?, ?B/s]\n",
            "100% 235k/235k [00:00<00:00, 211MB/s]\n"
          ],
          "name": "stdout"
        }
      ]
    },
    {
      "cell_type": "code",
      "metadata": {
        "id": "3JsJfbnfoRUk",
        "colab_type": "code",
        "colab": {
          "base_uri": "https://localhost:8080/",
          "height": 34
        },
        "outputId": "55282b22-7db6-461e-af7e-0afe0c7d5b84"
      },
      "source": [
        "!ls"
      ],
      "execution_count": 6,
      "outputs": [
        {
          "output_type": "stream",
          "text": [
            "kaggle.json  sample_data  sample_submission.csv  test.csv  train.csv\n"
          ],
          "name": "stdout"
        }
      ]
    },
    {
      "cell_type": "code",
      "metadata": {
        "id": "-xjOpEYifT8J",
        "colab_type": "code",
        "colab": {}
      },
      "source": [
        "train_orig = pd.read_csv('train.csv')\n",
        "test_orig = pd.read_csv('test.csv')"
      ],
      "execution_count": 0,
      "outputs": []
    },
    {
      "cell_type": "code",
      "metadata": {
        "id": "I4Tfzu5Df3pS",
        "colab_type": "code",
        "colab": {}
      },
      "source": [
        "# Split the label column from other feature columns in the training dataset\n",
        "y_train_orig = train_orig['label']\n",
        "x_train_orig = train_orig.drop(labels='label', axis=1)\n",
        "x_test_orig = test_orig"
      ],
      "execution_count": 0,
      "outputs": []
    },
    {
      "cell_type": "code",
      "metadata": {
        "id": "WhRFrG2jpdpL",
        "colab_type": "code",
        "colab": {}
      },
      "source": [
        "# Convert pandas data frame into numpy format\n",
        "x_train = pd.DataFrame.to_numpy(x_train_orig)\n",
        "y_train = pd.DataFrame.to_numpy(y_train_orig)\n",
        "x_test = pd.DataFrame.to_numpy(x_test_orig)"
      ],
      "execution_count": 0,
      "outputs": []
    },
    {
      "cell_type": "code",
      "metadata": {
        "id": "yXqYAEDogSqE",
        "colab_type": "code",
        "colab": {}
      },
      "source": [
        "# The model used here is RandomForestClassifier, which is one of the most popluar and powerful models\n",
        "model = RandomForestClassifier(n_estimators=100)"
      ],
      "execution_count": 0,
      "outputs": []
    },
    {
      "cell_type": "code",
      "metadata": {
        "id": "J11qzhtsksTk",
        "colab_type": "code",
        "outputId": "d07c70df-d538-4d47-d980-1b121ecf8fe9",
        "colab": {
          "base_uri": "https://localhost:8080/",
          "height": 136
        }
      },
      "source": [
        "# Model training\n",
        "model.fit(x_train_orig, y_train_orig)"
      ],
      "execution_count": 11,
      "outputs": [
        {
          "output_type": "execute_result",
          "data": {
            "text/plain": [
              "RandomForestClassifier(bootstrap=True, class_weight=None, criterion='gini',\n",
              "                       max_depth=None, max_features='auto', max_leaf_nodes=None,\n",
              "                       min_impurity_decrease=0.0, min_impurity_split=None,\n",
              "                       min_samples_leaf=1, min_samples_split=2,\n",
              "                       min_weight_fraction_leaf=0.0, n_estimators=100,\n",
              "                       n_jobs=None, oob_score=False, random_state=None,\n",
              "                       verbose=0, warm_start=False)"
            ]
          },
          "metadata": {
            "tags": []
          },
          "execution_count": 11
        }
      ]
    },
    {
      "cell_type": "code",
      "metadata": {
        "id": "Az54w5YXmhHk",
        "colab_type": "code",
        "colab": {}
      },
      "source": [
        "train_pred = model.predict(x_train_orig)"
      ],
      "execution_count": 0,
      "outputs": []
    },
    {
      "cell_type": "code",
      "metadata": {
        "id": "8KtaWTiRkvpv",
        "colab_type": "code",
        "colab": {}
      },
      "source": [
        "test_pred = model.predict(x_test_orig)"
      ],
      "execution_count": 0,
      "outputs": []
    },
    {
      "cell_type": "code",
      "metadata": {
        "id": "Rwv83mIsn-tb",
        "colab_type": "code",
        "outputId": "f2b17e90-e98e-4798-9bad-29999ea3c352",
        "colab": {
          "base_uri": "https://localhost:8080/",
          "height": 187
        }
      },
      "source": [
        "confusion_matrix(train_pred, y_train_orig)"
      ],
      "execution_count": 14,
      "outputs": [
        {
          "output_type": "execute_result",
          "data": {
            "text/plain": [
              "array([[4132,    0,    0,    0,    0,    0,    0,    0,    0,    0],\n",
              "       [   0, 4684,    0,    0,    0,    0,    0,    0,    0,    0],\n",
              "       [   0,    0, 4177,    0,    0,    0,    0,    0,    0,    0],\n",
              "       [   0,    0,    0, 4351,    0,    0,    0,    0,    0,    0],\n",
              "       [   0,    0,    0,    0, 4072,    0,    0,    0,    0,    0],\n",
              "       [   0,    0,    0,    0,    0, 3795,    0,    0,    0,    0],\n",
              "       [   0,    0,    0,    0,    0,    0, 4137,    0,    0,    0],\n",
              "       [   0,    0,    0,    0,    0,    0,    0, 4401,    0,    0],\n",
              "       [   0,    0,    0,    0,    0,    0,    0,    0, 4063,    0],\n",
              "       [   0,    0,    0,    0,    0,    0,    0,    0,    0, 4188]])"
            ]
          },
          "metadata": {
            "tags": []
          },
          "execution_count": 14
        }
      ]
    },
    {
      "cell_type": "code",
      "metadata": {
        "id": "HMPgkjOKmG-b",
        "colab_type": "code",
        "outputId": "e78213a7-427d-46d0-91a9-c3e9a83bd4c5",
        "colab": {
          "base_uri": "https://localhost:8080/",
          "height": 229
        }
      },
      "source": [
        "# Visualization of randomly chosen datapoints from the training dataset\n",
        "fig, axes = plt.subplots(1, 10, figsize=(20, 5))\n",
        "index = np.random.randint(0, test_pred.shape[0], 10)\n",
        "for i, j in enumerate(index):\n",
        "  axes[i].imshow(x_test[j].reshape(28,28), cmap='binary')\n",
        "  axes[i].set_title(test_pred[j])\n",
        "  axes[i].axis('off')\n",
        "plt.show()"
      ],
      "execution_count": 15,
      "outputs": [
        {
          "output_type": "display_data",
          "data": {
            "text/plain": [
              "<Figure size 1440x360 with 10 Axes>"
            ],
            "image/svg+xml": "<?xml version=\"1.0\" encoding=\"utf-8\" standalone=\"no\"?>\n<!DOCTYPE svg PUBLIC \"-//W3C//DTD SVG 1.1//EN\"\n  \"http://www.w3.org/Graphics/SVG/1.1/DTD/svg11.dtd\">\n<!-- Created with matplotlib (https://matplotlib.org/) -->\n<svg height=\"140.772521pt\" version=\"1.1\" viewBox=\"0 0 1150.125 140.772521\" width=\"1150.125pt\" xmlns=\"http://www.w3.org/2000/svg\" xmlns:xlink=\"http://www.w3.org/1999/xlink\">\n <defs>\n  <style type=\"text/css\">\n*{stroke-linecap:butt;stroke-linejoin:round;}\n  </style>\n </defs>\n <g id=\"figure_1\">\n  <g id=\"patch_1\">\n   <path d=\"M 0 140.772521 \nL 1150.125 140.772521 \nL 1150.125 0 \nL 0 0 \nz\n\" style=\"fill:none;\"/>\n  </g>\n  <g id=\"axes_1\">\n   <g clip-path=\"url(#p1d9a4703bf)\">\n    <image height=\"95\" id=\"image7df86a482e\" transform=\"scale(1 -1)translate(0 -95)\" width=\"95\" x=\"26.925\" xlink:href=\"data:image/png;base64,\niVBORw0KGgoAAAANSUhEUgAAAF8AAABfCAYAAACOTBv1AAAABHNCSVQICAgIfAhkiAAAA+pJREFUeJztnM0rdFEcx8+Yh5ooeclL2UiyY0NRhIUNygqlWFB2Xv8AGyulKKUmJYXyssICpSgRKy9LpZQSZUF5J/Osnt9zzuR6bnfune+M5/tZfU/nnnPPfPp1mjtzZnyhUCikCIQE9AL+ZygfCOUDoXwglA+E8oH8Qi/gD7e3t5Lv7++NvpycHMnJyclRW5PXsPKBUD4QX6w84Q4ODkoeGxsz+lpbWyUPDw9LLiws9H5hHsLKB0L5QCgfCHTPf39/l1xQUCD58vLScsz8/LzktrY2bxYWJVj5QCgfCPQJ1+/3S66urpY8NzdnOUbva2hoMPpSU1NdXJ33sPKBUD6QmHnCPTs7k1xUVGRrTG1trdFeW1uTHA8fwLHygVA+EMoHEjN7/ufnp+TJyUmjr7e3V7K+3MTEROO6yspKyZubm0Zf+LWxACsfCOUDiZlt5zs6OjokLy4uSn57e7McU1NTY7SXl5clZ2Zmure4CGDlA6F8IJQPJC72fJ2mpibJq6urtsfl5uZK3tvbk5yfn+/OwhzAygdC+UDibtu5vr6WPDIyYvSNj4/bmsNqC1IqutsQKx8I5QOJu21H5+bmxmj39fVJXlpaMvr0l5mSkiJZf/eklFL9/f2SS0tLXVmnFax8IJQPhPKB2D638/r6arQHBgYk19fXS25sbHRhWfbIzs422gsLC5KTkpKMvtnZWckPDw+S9eOHSimVnp4uWT/OqJRSFRUVzhf7Bax8IJQPxPa209zcbLT1MzL696PR3Ha+Y2pqymifnp5KPjk5sRw3MTEhuaSkxOjjtvODoHwglA/E9scL5eXlRvvw8PDvJD6f5PDzMZ2dnZKHhoaMvoyMDMnhbw3d5uLiQrL+K8aPjw/LMQkJZm3qP9ROS0uLeE2sfCCUD8T2tlNXV2e0t7a2Ir55WVmZ5J6eHsnn5+fGdV1dXZIDgYBkp+dvpqenv5z7X+hnhlpaWhzdW4eVD4Tygdjedo6Ojoz2zs6OZP1/E7wmLy9PclVVlaM57u7uJK+vr9sepx9B3N7ednRvHVY+EMoHQvlAHH+B/vj4KHl3d9fyupmZGckrKytG38vLi5NbRw39fI9SSm1sbEguLi6OeH5WPhDKBxLVczvHx8dG+/n5WfLo6KjluP39fcn6cUGv6e7uNtrBYNDV+Vn5QCgfSFwcF7y6upL89PQk+eDgwLhO/wsZp0+g7e3tksP/AyIrK8vRnFaw8oFQPhDKBxIXe/5PhZUPhPKBUD4QygdC+UAoHwjlA6F8IJQPhPKBUD4QygdC+UAoHwjlA6F8IJQPhPKBUD4QygdC+UAoHwjlA6F8IJQPhPKB/AaU4Qi99KMieQAAAABJRU5ErkJggg==\" y=\"-21.894396\"/>\n   </g>\n   <g id=\"text_1\">\n    <!-- 7 -->\n    <defs>\n     <path d=\"M 8.203125 72.90625 \nL 55.078125 72.90625 \nL 55.078125 68.703125 \nL 28.609375 0 \nL 18.3125 0 \nL 43.21875 64.59375 \nL 8.203125 64.59375 \nz\n\" id=\"DejaVuSans-55\"/>\n    </defs>\n    <g transform=\"translate(70.395636 16.318125)scale(0.12 -0.12)\">\n     <use xlink:href=\"#DejaVuSans-55\"/>\n    </g>\n   </g>\n  </g>\n  <g id=\"axes_2\">\n   <g clip-path=\"url(#p129770ac69)\">\n    <image height=\"95\" id=\"image22dfec9161\" transform=\"scale(1 -1)translate(0 -95)\" width=\"95\" x=\"140.416525\" xlink:href=\"data:image/png;base64,\niVBORw0KGgoAAAANSUhEUgAAAF8AAABfCAYAAACOTBv1AAAABHNCSVQICAgIfAhkiAAAAd9JREFUeJzt3NFyQ0AYQGE6eS88GZ4MT6Z3ZmPKqLF7WOe7SppMq2c2/wiScp7nuRDih96ANzM+yPgg44OMDzI+6ENvwJXGcVxuN03z9Vhd18vttm3//HlqrnyQ8UHZjp29x6qqWm47dl7K+CDjg4wPMj7I+CDjg4wPMj6ozOkc7t6BtS3kv+/KBxkfZHxQVjM/VJbloec581/K+KCsTqac0XXd7v2YXPkg44OMD8p2V3N9eGHv5HooZQ5XPsj4oMftaobj4+gouStXPsj4IHTsbL2bnKbp6/7Tx8sWVz7I+CDjg5LO/KMnOEjhO+NhGKL+LVc+yPig6GPn6PUzd5Fyt9aVDzI+yPigy2f++pDBkw8NrLf96k8uuvJBxgfd8mRK+N0IRXHNtTRnLh937GTM+KDbjJ3wJR3jkj3yOxa2uPJBxgcZHxT9csEzJ1BiX7J3dJti7PKGXPkg44Oi72qGu3hHD7LF/rRIOE76vr/0d/+HKx9kfFD0sRO+xM+OnVy58kHGBxkflHRX82lib7srH2R8UNKTKesDVdS7y3CcrD8Fs/W8GFz5IOODjA/K9rsXnsCVDzI+yPgg44OMDzI+yPgg44OMDzI+yPgg44OMDzI+yPgg44OMDzI+yPigX8JrdoPkY7QFAAAAAElFTkSuQmCC\" y=\"-21.894396\"/>\n   </g>\n   <g id=\"text_2\">\n    <!-- 4 -->\n    <defs>\n     <path d=\"M 37.796875 64.3125 \nL 12.890625 25.390625 \nL 37.796875 25.390625 \nz\nM 35.203125 72.90625 \nL 47.609375 72.90625 \nL 47.609375 25.390625 \nL 58.015625 25.390625 \nL 58.015625 17.1875 \nL 47.609375 17.1875 \nL 47.609375 0 \nL 37.796875 0 \nL 37.796875 17.1875 \nL 4.890625 17.1875 \nL 4.890625 26.703125 \nz\n\" id=\"DejaVuSans-52\"/>\n    </defs>\n    <g transform=\"translate(183.887161 16.318125)scale(0.12 -0.12)\">\n     <use xlink:href=\"#DejaVuSans-52\"/>\n    </g>\n   </g>\n  </g>\n  <g id=\"axes_3\">\n   <g clip-path=\"url(#p90ac3a6649)\">\n    <image height=\"95\" id=\"image9fbcfeb86b\" transform=\"scale(1 -1)translate(0 -95)\" width=\"95\" x=\"253.908051\" xlink:href=\"data:image/png;base64,\niVBORw0KGgoAAAANSUhEUgAAAF8AAABfCAYAAACOTBv1AAAABHNCSVQICAgIfAhkiAAABEBJREFUeJztnEsobWEUx/e5KImBEBIDKY8MTOUxYEDGJKWUwkyZKEw8wggDBlIyEEkeGRAy8Zh4RspAUfIYmXjmmTtb91s7zt2Xrf851/83+n+tz/5W/9ZZ9j77O5/n7e3tzSIQfqET+MnQfCA0HwjNB0LzgdB8IDQfCM0HQvOB0HwgNB8IzQdC84EEOp3Y1dWlxm1tbaK3trZEJyUluZCW+3R3d4suLi4WnZCQgEjHsixWPhSaD8Rx2zk6OlLjq6sr0dXV1aLLysrUvMzMTNHR0dEqFhUV5XR5RywtLYlubW1Vsfz8fNExMTGurvtZWPlAaD4Qj9N3uB6P58uLxcXFqXFlZaXokpIS0Q8PD2qe2eKysrJENzU1qXmDg4Oi7+/vVWxmZkZ0UVHRv6T9bbDygdB8IDQfiOOeX15ersYjIyOuJhIZGSn66elJxa6vrx1dIzDwz53z0NCQitnz9wVY+UBoPhDHbef5+VmNe3p6RPf19Yk+PT11KbX3CQsLE72xsaFi5hNzRETEt+bhBqx8IDQfCM0H4rjne+Py8lK0/Rb05OREdGJiooodHx+/e42pqSk17+7uTnRubq7o2dlZNS84OFi0edvpq7DygdB8IK60HbfZ3d1V487OTtHj4+Oi7e9fzXF4eLiKdXR0iE5PT3clz6/CygdC84H4ZNvxRnNzs2jz5YllWdbZ2dmHf1daWip6bGzM9bw+AysfCM0HQvOB+F3PNzGfkC1L79upqalRMfPpt76+XnRLS8s3Zfd3WPlAaD4Qv247dl5fX0Wb2wMty7KWl5dFBwUFic7JyVHzent7RaelpbmdooKVD4TmA6H5QP6rnu+NhYUF0bW1taIPDw/VPPMbz/X1dRULCQlxNSdWPhCaD+THtB2Tm5sb0RUVFSo2PT0tuqGhQcXMFzJuwMoHQvOB/Mi2YzI5OanG5i9k4uPjVczcBuMGrHwgNB8IzQfy43u+neTkZNHn5+cqNjExIbqwsPDLa7HygdB8ID65lXd7e1uNzR3MBQUF37p2Xl6e6P7+fhVbXFwUzbbj59B8ID7Tdvb29kRnZ2ermHkWg/lxHxgYUPNiY2NFO/1xxOPjoxofHByIDg0NVbGqqipH13QKKx8IzQdC84H4TM83z8exn7djMj8/L9r+yxTzf4V9u+BHZy/s7Oyo8cXFhejb21sVW1tbE52amvphjk5h5QOh+UB85os1c6vf5uamipm7ildXVx1dz36rabakjIwM0fYzGtrb20WnpKSomHl4a0BAgKM8vMHKB0LzgdB8ID7T871hHu1YV1cnenh4WM17eXlxdV2z/1uWZTU2Nrp6fVY+EJoPxC/azkfMzc2p8ejoqOiVlRUVM7f6me9m9/f31Tzz3Af7MWLcpfwfQfOB+HXb8XdY+UBoPhCaD4TmA6H5QGg+EJoPhOYDoflAaD4Qmg+E5gOh+UB+A1ShOoyw8TH8AAAAAElFTkSuQmCC\" y=\"-21.894396\"/>\n   </g>\n   <g id=\"text_3\">\n    <!-- 2 -->\n    <defs>\n     <path d=\"M 19.1875 8.296875 \nL 53.609375 8.296875 \nL 53.609375 0 \nL 7.328125 0 \nL 7.328125 8.296875 \nQ 12.9375 14.109375 22.625 23.890625 \nQ 32.328125 33.6875 34.8125 36.53125 \nQ 39.546875 41.84375 41.421875 45.53125 \nQ 43.3125 49.21875 43.3125 52.78125 \nQ 43.3125 58.59375 39.234375 62.25 \nQ 35.15625 65.921875 28.609375 65.921875 \nQ 23.96875 65.921875 18.8125 64.3125 \nQ 13.671875 62.703125 7.8125 59.421875 \nL 7.8125 69.390625 \nQ 13.765625 71.78125 18.9375 73 \nQ 24.125 74.21875 28.421875 74.21875 \nQ 39.75 74.21875 46.484375 68.546875 \nQ 53.21875 62.890625 53.21875 53.421875 \nQ 53.21875 48.921875 51.53125 44.890625 \nQ 49.859375 40.875 45.40625 35.40625 \nQ 44.1875 33.984375 37.640625 27.21875 \nQ 31.109375 20.453125 19.1875 8.296875 \nz\n\" id=\"DejaVuSans-50\"/>\n    </defs>\n    <g transform=\"translate(297.378686 16.318125)scale(0.12 -0.12)\">\n     <use xlink:href=\"#DejaVuSans-50\"/>\n    </g>\n   </g>\n  </g>\n  <g id=\"axes_4\">\n   <g clip-path=\"url(#p8498ee507d)\">\n    <image height=\"95\" id=\"imageaa817aedb8\" transform=\"scale(1 -1)translate(0 -95)\" width=\"95\" x=\"367.399576\" xlink:href=\"data:image/png;base64,\niVBORw0KGgoAAAANSUhEUgAAAF8AAABfCAYAAACOTBv1AAAABHNCSVQICAgIfAhkiAAAA55JREFUeJztnD1IK0EUhScPY2EaQVJb2NuJBGInKIqioGghgmCltUVAtEkjpBLB0kIRQfwrFKOlkCgq1iksVAyIhYVokYTE7r6ZIQmrb3fPxne+6gwzO3NzuFx2M7MbqlQqFUUg/EEH8D9D84HQfCA0HwjNB0LzgdB8IDQfCM0HQvOB0HwgNB8IzQfS5OdihULBaH98fFQdFwqFjHZra6uj+a6urkSfnJwYfalUSvTo6Kjora0tY1xzc3PVtbyAmQ+E5gMJeb2Z8vn5KXp2dtbo29nZqXpNS0uL0Z6amqo67uHhwWin02lHMbW1tYm+vLw0+jo6OhzN4QbMfCA0H4jnZef09FT0wMCAl0s5pru7W3Q2m4XFwcwHQvOB0Hwgnj/hdnV1ibZv4+7v771eXhgcHBS9vr7u27r1YOYDoflAPL/V1Dk4ODDau7u7Vcfd3d0Z7Vwu9+21ksmk0U4kEqLtP+5QMPOB0HwgNB+IrzXfKW9vb0ZbvzVcXFx0NIe9mdLf3//vgbkMMx8IzQcSyLJjUy6XRW9ubopeWloyxj09PYm292Lf399Fh8Nht0P8Ecx8IDQfSEOUnVr09fUZ7fPz85pjFxYWRC8vL4u294v9hJkPhOYDoflAGrrm67eWSikVi8VE5/P5mtetra2Jnpubcz8whzDzgdB8IA1ddmz0J157M0UnHo+L3tvbM/qi0aj7gdWAmQ+E5gOh+UB+Vc1/eXkRPTw8bPRdX19XvWZ7e9toT05Ouh9YDZj5QGg+kF9VdnT0o+lKmccF9Z/c29trjDs7O/M2MA1mPhCaD8TX93Drob9T297ebvRNT0+LXllZcTSffVSkqenvTy0Wi6JfX1+/FaebMPOB0HwgNB9IYGr+xcWFaP1JVSmljo+PRTut+Y0AMx8IzQcSmLKTyWTQIfgOMx8IzQcSmLIzNDQkWj/Op5RSz8/Povf390XbxwUjkYhH0XkDMx8IzQdC84EEpuZ3dnaKHhkZMfoODw9Fj42NibY//zUzMyP65ubG6CuVSq7E6SbMfCA0H0gg93DtT7LMz8+7Or/+NsrGxobRNz4+7upa9WDmA6H5QGg+kEDWfPu28Pb2VvTExITox8fHH82v/5VxdHT0ozncgJkPhOYDCWTZqYf+DQX78y+rq6s1r+vp6RGt7wPrL9H5DTMfCM0H0nBl5zfBzAdC84HQfCA0HwjNB0LzgdB8IDQfCM0HQvOB0HwgNB8IzQfyBXgE+JULtHrBAAAAAElFTkSuQmCC\" y=\"-21.894396\"/>\n   </g>\n   <g id=\"text_4\">\n    <!-- 2 -->\n    <g transform=\"translate(410.870212 16.318125)scale(0.12 -0.12)\">\n     <use xlink:href=\"#DejaVuSans-50\"/>\n    </g>\n   </g>\n  </g>\n  <g id=\"axes_5\">\n   <g clip-path=\"url(#p92809fecfb)\">\n    <image height=\"95\" id=\"image2817c64d6e\" transform=\"scale(1 -1)translate(0 -95)\" width=\"95\" x=\"480.891102\" xlink:href=\"data:image/png;base64,\niVBORw0KGgoAAAANSUhEUgAAAF8AAABfCAYAAACOTBv1AAAABHNCSVQICAgIfAhkiAAABFNJREFUeJztnEsoNlEYx4fcKYQoJQtJUpSFy8LGysYtyoIoKUWUpQWhrFy2yo6VBQqlLAm5pJRCNhJFknvk9n675ztnvs/bvPPOzF/5/1b/0zNz5vh7et4z58xMiM/n8xkEQih6AL8Zmg+E5gOh+UBoPhCaD4TmA6H5QGg+kDC3L/D5+Sl6eXlZiw0ODore3d211F9aWprotrY2LZaRkSG6ublZi4WFuf6nBgwzHwjNB0LzgYQ4vaq5srKitfv7+0VvbW05eSm/ZGZmau3e3l7RjY2NoqOiorwa0j8w84HQfCCOl53i4mKtvb297WT3jlBTUyN6dnYWNg5mPhCaD8Tx276IiAhb56l3oNHR0Vrs/f1d9Ovrq72BKRwfH4uem5vTYrW1tUH3bxVmPhCaD4TmA3G85sfHx9s6Lz09XbS5Dt/e3ore2NgQPTw8rB1n9ffg+flZtHlq7CXMfCA0H4jjZefp6cnWeR8fH6Lj4uK0WFZWluiLiwvRycnJ2nHn5+eWrqUupiE3WZj5QGg+EJoPxPGCl5KSYus8tZaXlpZqsenpadHZ2dmiw8PDbV1L/Q2JjIy01YcTMPOB0Hwgjm+mfH19ae3Ozk7RExMTQfdfVFQkuqOjQ4uNjo6K3t/f12Lqnffm5qbonJycoMdkF2Y+EJoPxPGyY+bx8VG03UW370hISNDa6uzn+vpai6WmpoqemZkRXVZW5uiYAoGZD4TmA6H5QFxf0ltbW3Ot77u7O8vHXl1did7b2xPNmv9LoflAXJ9qqpsk5jdTqqqq3Lz0t6iLfyMjI1qsqanJs3Ew84HQfCA0H4jrNV9FfebSMAyjoaFB9Pz8vFfD0MjPz9fa6qrp+Pi4FjM/QxoszHwgNB+Ip2Xn/v5ea6v7seZVyJ+AedrZ09Mj2lyu7MDMB0LzgbhednZ2dkSbv4dwdHQUcH91dXWi+/r6tNjp6ano1tZWLeZEWUtKShK9sLAguqSkxFZ/zHwgNB8IzQfies1fWloSXVlZaasPdcNDfTansLDw23NWV1e1dn19vWgn6r+6eW9+ND0mJsZSH8x8IDQfiOt7uAUFBUH3cXh4KPrm5sbSOea92cXFRdHV1dWiLy8vbY1J3T/Ozc3VYicnJ6L9PUnNzAdC84G4PttRn1qemprSYmNjY6IPDg4s9ZeYmCg6kPX1l5cX0ep7vW6wvr4u2t/dLzMfCM0HQvOBuD7VDA39+/9taWnRYrGxsaKHhoZE+6v/ar12u3ZbpaurS2tb3Whh5gOh+UA83cP1h/q5lsnJSS3W3d3t2Tjy8vJEn52dabGHhwfR6st45kcOrb7by8wHQvOB0HwgP6bmq5iH9Pb29t/j1O81GIZhlJeXi1Y30/3R3t6utQcGBkSb33ZUl0PU6WRFRYWla5lh5gOh+UB+ZNn5LTDzgdB8IDQfCM0HQvOB0HwgNB8IzQdC84HQfCA0HwjNB0LzgdB8IDQfCM0H8gdklDJ5+kCkUAAAAABJRU5ErkJggg==\" y=\"-21.894396\"/>\n   </g>\n   <g id=\"text_5\">\n    <!-- 8 -->\n    <defs>\n     <path d=\"M 31.78125 34.625 \nQ 24.75 34.625 20.71875 30.859375 \nQ 16.703125 27.09375 16.703125 20.515625 \nQ 16.703125 13.921875 20.71875 10.15625 \nQ 24.75 6.390625 31.78125 6.390625 \nQ 38.8125 6.390625 42.859375 10.171875 \nQ 46.921875 13.96875 46.921875 20.515625 \nQ 46.921875 27.09375 42.890625 30.859375 \nQ 38.875 34.625 31.78125 34.625 \nz\nM 21.921875 38.8125 \nQ 15.578125 40.375 12.03125 44.71875 \nQ 8.5 49.078125 8.5 55.328125 \nQ 8.5 64.0625 14.71875 69.140625 \nQ 20.953125 74.21875 31.78125 74.21875 \nQ 42.671875 74.21875 48.875 69.140625 \nQ 55.078125 64.0625 55.078125 55.328125 \nQ 55.078125 49.078125 51.53125 44.71875 \nQ 48 40.375 41.703125 38.8125 \nQ 48.828125 37.15625 52.796875 32.3125 \nQ 56.78125 27.484375 56.78125 20.515625 \nQ 56.78125 9.90625 50.3125 4.234375 \nQ 43.84375 -1.421875 31.78125 -1.421875 \nQ 19.734375 -1.421875 13.25 4.234375 \nQ 6.78125 9.90625 6.78125 20.515625 \nQ 6.78125 27.484375 10.78125 32.3125 \nQ 14.796875 37.15625 21.921875 38.8125 \nz\nM 18.3125 54.390625 \nQ 18.3125 48.734375 21.84375 45.5625 \nQ 25.390625 42.390625 31.78125 42.390625 \nQ 38.140625 42.390625 41.71875 45.5625 \nQ 45.3125 48.734375 45.3125 54.390625 \nQ 45.3125 60.0625 41.71875 63.234375 \nQ 38.140625 66.40625 31.78125 66.40625 \nQ 25.390625 66.40625 21.84375 63.234375 \nQ 18.3125 60.0625 18.3125 54.390625 \nz\n\" id=\"DejaVuSans-56\"/>\n    </defs>\n    <g transform=\"translate(524.361737 16.318125)scale(0.12 -0.12)\">\n     <use xlink:href=\"#DejaVuSans-56\"/>\n    </g>\n   </g>\n  </g>\n  <g id=\"axes_6\">\n   <g clip-path=\"url(#p3c8ad6590e)\">\n    <image height=\"95\" id=\"image426cc31187\" transform=\"scale(1 -1)translate(0 -95)\" width=\"95\" x=\"594.382627\" xlink:href=\"data:image/png;base64,\niVBORw0KGgoAAAANSUhEUgAAAF8AAABfCAYAAACOTBv1AAAABHNCSVQICAgIfAhkiAAAAyRJREFUeJztnL9LamEYx18vdyhFrCkCUQRxMZSgIaK1IVEcFBycBXVtb5FcDFwcHBqa+wsaGtocLBQEBwd/NDTqEI3i3R7eV+6x4nL8Hr3fz/Q9vEd5+PDw8B7OD9disVgoAuEXuoD/GcoH8htdgF0Ui0Xj2Ov1Sq7Vausu56+w84FQPhDKB+Lapq3m6+ur5JOTE2Pt4OBAcqfTkXx4eGh/YRaw84FQPpCt2mr2+33LtZubG8l7e3vrKOdL2PlAKB8I5QPZqpk/HA4lL28hs9ms5N3d3bXVtAp2PhDKB7JVY6fVakmOxWLGms/nW3c5X8LOB0L5QDZ67Hx8fBjHg8FAciQSWXc5P4adD4TygVA+kI2e+Z+fn8bxeDyWzJlPVkL5QDZ67Cyj344OhULASr4HOx8I5QOhfCBbNfNdLpfk0WgErOR7sPOBUD4QygdC+UAoH4hjdjvz+Vxyu9021vRHQtLptGSPx2OcFwwGbarOHtj5QCgfCOUDcczMr1arkq+vry3POz09ldxoNIw1/QbKJrxww84HQvlAoC/Evb29ST4+Ppa8/BRxoVCQrG9D9d8rpdR0OpV8dHRkrD0+Pv5bsTbAzgdC+UAoHwh0q3l3dyd5NptJvr+/N85LpVKS9TmfSCSM897f3yUvz3wnws4HQvlAHHOFq7Ozs2O5FggEJJfLZWPt6urKtprsgJ0PhPKBQMdOJpORXKlUJOs3T1axPHZ6vZ7kh4cHY03fTe3v7/+oTrtg5wOhfCCUDwQ68+PxuOTLy0vJpVLJOC8ajUo+Pz+3/L+zszPJzWbTWJtMJpI58wnlI3HM1wX1l9uSyaSx1u12Jdfrdcm5XM7y/9xut3F8e3sr2SlXwux8IJQPxDFjR2f5Cjefz0t+eXmRHA6HjfP0caWPGaWU8vv9kvVHTvTHD9cNOx8I5QOhfCCOnPmreH5+lqx/JVYppZ6enix/d3FxIVmf+chvNLDzgVA+kI0bO9sEOx8I5QOhfCCUD4TygVA+EMoHQvlAKB8I5QOhfCCUD4TygVA+EMoHQvlAKB8I5QOhfCCUD4TygVA+EMoH8gflQa0n2fQARAAAAABJRU5ErkJggg==\" y=\"-21.894396\"/>\n   </g>\n   <g id=\"text_6\">\n    <!-- 9 -->\n    <defs>\n     <path d=\"M 10.984375 1.515625 \nL 10.984375 10.5 \nQ 14.703125 8.734375 18.5 7.8125 \nQ 22.3125 6.890625 25.984375 6.890625 \nQ 35.75 6.890625 40.890625 13.453125 \nQ 46.046875 20.015625 46.78125 33.40625 \nQ 43.953125 29.203125 39.59375 26.953125 \nQ 35.25 24.703125 29.984375 24.703125 \nQ 19.046875 24.703125 12.671875 31.3125 \nQ 6.296875 37.9375 6.296875 49.421875 \nQ 6.296875 60.640625 12.9375 67.421875 \nQ 19.578125 74.21875 30.609375 74.21875 \nQ 43.265625 74.21875 49.921875 64.515625 \nQ 56.59375 54.828125 56.59375 36.375 \nQ 56.59375 19.140625 48.40625 8.859375 \nQ 40.234375 -1.421875 26.421875 -1.421875 \nQ 22.703125 -1.421875 18.890625 -0.6875 \nQ 15.09375 0.046875 10.984375 1.515625 \nz\nM 30.609375 32.421875 \nQ 37.25 32.421875 41.125 36.953125 \nQ 45.015625 41.5 45.015625 49.421875 \nQ 45.015625 57.28125 41.125 61.84375 \nQ 37.25 66.40625 30.609375 66.40625 \nQ 23.96875 66.40625 20.09375 61.84375 \nQ 16.21875 57.28125 16.21875 49.421875 \nQ 16.21875 41.5 20.09375 36.953125 \nQ 23.96875 32.421875 30.609375 32.421875 \nz\n\" id=\"DejaVuSans-57\"/>\n    </defs>\n    <g transform=\"translate(637.853263 16.318125)scale(0.12 -0.12)\">\n     <use xlink:href=\"#DejaVuSans-57\"/>\n    </g>\n   </g>\n  </g>\n  <g id=\"axes_7\">\n   <g clip-path=\"url(#p81834f2eb3)\">\n    <image height=\"95\" id=\"imaged59ef3c213\" transform=\"scale(1 -1)translate(0 -95)\" width=\"95\" x=\"707.874153\" xlink:href=\"data:image/png;base64,\niVBORw0KGgoAAAANSUhEUgAAAF8AAABfCAYAAACOTBv1AAAABHNCSVQICAgIfAhkiAAAAz9JREFUeJztnDFIMmEYx88P12zSzXCyDB2kJUnQoalB12iQhHB1FHRocGhoCwQbg2hqqD1cbGlrSQkXQXBRcFCDlmz4+B7e90i/Uzv/mf/f9H+5O+/hx8Pjeac6RqPRyCAQ/qALWGUoH4gTXcA8nJ2daetCoTB233q9Lnlzc9O2mqaBnQ+E8oFQPpClnvnTcHx8LPn+/l6yx+MBVPMXdj4QygeyMmPn6elJ8t3dneRMJoMoxzAMdj4UygdC+UBWZuar3N7eSubMX1EoHwjlA6F8IJQPxLHMz3Cbzaa2DgaDkt/e3sYed3NzI/nw8PDb67IKOx8I5QOhfCBL/QnX5/Np61QqJblcLo89Tr3DyZm/olA+kKUeO2a2t7ct7ffy8mJzJdZg5wOhfCCUD4TygVA+EMoH8qsuNVUm3az9KTdy2flAKB/Irxo7Ozs7kl0ul7at3+9LdjgcC6tpEux8IJQPhPKBQGe++guR4XAo+ejoaKbXi0QiktfW1rRt6sz/KbDzgVA+kIWOnYuLC22dy+Ukf3x8SFZ/sGwYhlEsFqc+l/rahmEY2WxWcrValfz4+KjtF41Gpz7XrLDzgVA+EMoHYvvMb7fbkkulkrbt/f39y2Ourq609Swzf319few29bzPz8/aNs78FYHygdg+dtSv5jUaDUvHxONxbV2pVL7cz/xQxOv1Sg6Hw9o2t9studPpSM7n89p+oVBIciwWs1TvrLDzgVA+kB/5MOX6+nri+h/msbOxsSHZ/DBFHTUqg8FAW/d6Pct1zgs7HwjlA6F8ILbP/HHz2g5ardbcr9Htdr+hEmuw84FQPhDbfwQdCAQkv76+WjrG6dSn4cnJieTd3V3J5tInfR9H/ffZSXVsbW1JrtVq/y92Dtj5QCgfiO1XO4lEQvL5+fnY/dRPp6enp9q2dDo9dx17e3uSDw4OJJtv9iWTybnPZRV2PhDKB0L5QGy/1FQv6/b39/WTK5eGDw8Pkv1+v50laf/TY34/uby8XFgd7HwglA9kqf/ma9lh5wOhfCCUD4TygVA+EMoHQvlAKB8I5QOhfCCUD4TygVA+EMoHQvlAKB8I5QOhfCCUD4TygVA+EMoHQvlAPgFlk75Bx0aKpwAAAABJRU5ErkJggg==\" y=\"-21.894396\"/>\n   </g>\n   <g id=\"text_7\">\n    <!-- 7 -->\n    <g transform=\"translate(751.344788 16.318125)scale(0.12 -0.12)\">\n     <use xlink:href=\"#DejaVuSans-55\"/>\n    </g>\n   </g>\n  </g>\n  <g id=\"axes_8\">\n   <g clip-path=\"url(#p584d159b8f)\">\n    <image height=\"95\" id=\"image8e0a371474\" transform=\"scale(1 -1)translate(0 -95)\" width=\"95\" x=\"821.365678\" xlink:href=\"data:image/png;base64,\niVBORw0KGgoAAAANSUhEUgAAAF8AAABfCAYAAACOTBv1AAAABHNCSVQICAgIfAhkiAAABG9JREFUeJztnEsofVEUxvf1GpCiiDARURKlKCkDZWLAgAxEKQMTjwxMKJRiIq8y9iwMlEgGJkoeycRAGXjlVULyKvL6z5a1Tq7u/zj3frfu+o2+01rtu/pad999z97nuL6+vr6MAiEIXUAgo+YDUfOBqPlA1Hwgaj4QNR+Img9EzQei5gNR84Go+UDUfCBqPhA1H4iaD0TNB6LmA1HzgYQ4Mcjn5yfp4eFhEevq6iJ9f3/v0Xj5+fniOj4+nnR9fT3p4uJikRcU5GwvfXx8iOvDw0PSycnJpENDQ22Nr50PRM0HouYDcTlxbmdqaop0TU2NiGVnZ5OOi4sTsZSUlB/HW15eFtcnJyc/5hUUFIjrsbEx0qmpqW7r5Vjn9aWlJdI9PT0itru7S3pycpJ0RUWFR59lRTsfiJoPxPa0c319TTotLY10Tk6OyFtcXCQdHh7u0dj7+/viemFhgfTq6ipp6/QUFRVFur+/X8Rqa2tJ39zckJ6ZmRF5TU1NpGNjY0Wso6ODdENDg7vyPUY7H4iaD0TNB2J7zp+YmCDd2NhIenNzU+RlZGTYLO1nXl5eSG9vb4sYX+aenp6KWHt7O+nx8XHS/LfLGPnb0N3dLWLW34C/op0PRM0HYnva4V/xkJDvm6Ojo6N/r8omra2tpPv6+tzmRUZGkh4YGBCxuro65wtzg3Y+EDUfiO3NlOfnZ9IJCQmOFOMJT09PpCsrK0VsZWXFozHe3t5Ip6enO1OYDbTzgaj5QNR8ILbn/MTERNJ8EyMmJkbkNTc3k46OjnY7Ht+Ef319FTG+KT84OEj66upK5PF/p0NDQyJ2dnZGOjMzkzT/52uMvGvqcrnc1usE2vlA1Hwgtv/hTk9Pk66qqnKbxzc4CgsL3eZdXl6S3tnZETF+Hic3N5c039wwxpiSkpJfKv6mt7eXdFtbm4jNz8+TLisr82g8u2jnA1Hzgaj5QGzP+e/v76T5HDo3Nyfy+HKQb4QYI+8u8mVdXl6eyON3UEtLS+2UK7i9vSWdlJQkYvwMDj+b4w2084Go+UAcOS74G/zu5+Pjo4jxo98orMtffoydHw/0Btr5QNR8II48mfIbERERP2p/wXq0xXr0xZto5wNR84Go+UC8Puf7O8fHx7DP1s4HouYDCchph+8RX1xciFhwcLDP6tDOB6LmAwnIaefh4YH03t6eiHV2dvqsDu18IGo+EDUfSEDO+fxdDvypGmOMKS8v91kd2vlA1HwgXt/D9Rf4UZeioiLS5+fnIu/o6MhnNWnnA1Hzgaj5QAJmqbmxsUF6bW2NdEtLC6IcY4x2PhQ1H4jfLDUPDg5Ie/pmwN/grxczxpjq6mrS/GmZ9fV1kWc9texNtPOBqPlA/Ga1MzIyQnpra0vE+AML/CWpd3d3Io8/r8tXN8YYk5WVRXp2dpa0L6cZK9r5QNR8IGo+EL9ZavJ34Fjf6me99gTrRjh/2DksLOy/x/MG2vlA1HwgfjPtBCLa+UDUfCBqPhA1H4iaD0TNB/IPbew196taK8AAAAAASUVORK5CYII=\" y=\"-21.894396\"/>\n   </g>\n   <g id=\"text_8\">\n    <!-- 2 -->\n    <g transform=\"translate(864.836314 16.318125)scale(0.12 -0.12)\">\n     <use xlink:href=\"#DejaVuSans-50\"/>\n    </g>\n   </g>\n  </g>\n  <g id=\"axes_9\">\n   <g clip-path=\"url(#pae7df3f6b1)\">\n    <image height=\"95\" id=\"image4697ac4fa9\" transform=\"scale(1 -1)translate(0 -95)\" width=\"95\" x=\"934.857203\" xlink:href=\"data:image/png;base64,\niVBORw0KGgoAAAANSUhEUgAAAF8AAABfCAYAAACOTBv1AAAABHNCSVQICAgIfAhkiAAAA1FJREFUeJztnLFLclEYxq8f4SQtTk65KA4uCoI4RE6BWkP6L1jQ2K5Bjk6BEJJuLtqQLU0hBApGYzg5NjU0CWE4+A0fvN85l++G+Hl8rvX8pudyj93Dj5fX0z336pnP53OLQPiFnsBPhvKBUD4QygdC+UAoH8gW8uJ3d3eSj46OHMcFAgHJk8lE8vb2tjau3+9L3tnZWcUUjcLKB0L5QKBtJx6PLzSu2+1K3tr6O+XxeKyN8/l8q5nYmmDlA6F8IJQPxIO8q/n5+Sk5l8tJ7vV62rizszPJ1WrV/MTWBCsfCOUDgbYdlZeXF8n7+/vauUgkItnekjYZVj4QygfimrajkkqltOOnpyfJh4eHkm9vb9c2JxOw8oFQPhDKBwK9q+lEJpPRjtWePxwOJb+/v2vj/H6/2YmtGFY+EMoH4sqlpr2dRKNRyW9vb5L39va0cTc3N5I3oQWx8oFQPhDKB+LKnm/n4uJC8vn5uWSPx6ONq9Vqkk9PT81P7D9h5QOhfCAb0XZUDg4OJN/f3zuOG41G2rG6IeMWWPlAKB/IxrWdj48PyY1GQztXLpclq082W5a+92s/h4KVD4TygVA+kI3r+V+hbryrGzCWZVmJREKyuiGDhJUPhPKBfKu2o74Ql81mtXPqElVdkpZKJfMTc4CVD4TygVA+kG/V81Wur6+145OTE8nqJsxgMNDGJZNJsxNTYOUDoXwgrnxccBUUi0Xt+Pn5WXKz2ZTcarW0ceqL2V6v19Ds/sDKB0L5QL7tasfO6+ur5GAw6Dju+PhY8tXVlckpsfKRUD4QygcCXWqqP9lVqVQkt9ttx8+oX1H2xwW/Yjab/fNv2KnX647nVv0dwMoHQvlA1tp2Hh8fteN0Oi150RaybNtZ5nP2FqT+x3t5ebnwtZ1g5QOhfCDG2476cpu6d2onHA5Ltt9TV9/LXbbtqCsr+2OGTthXRdPpdOHrLQIrHwjlA6F8IMbvaubzecnqL8Nalt5TO52O5EKhYHJKroGVD4TygRhfau7u7kp+eHjQzsViMcmhUMj0VFwHKx8I5QOhfCA/ZgPdjbDygVA+EMoHQvlAKB8I5QOhfCCUD4TygVA+EMoHQvlAKB8I5QOhfCCUD4TygVA+EMoH8hugFOWrg0VNvQAAAABJRU5ErkJggg==\" y=\"-21.894396\"/>\n   </g>\n   <g id=\"text_9\">\n    <!-- 7 -->\n    <g transform=\"translate(978.327839 16.318125)scale(0.12 -0.12)\">\n     <use xlink:href=\"#DejaVuSans-55\"/>\n    </g>\n   </g>\n  </g>\n  <g id=\"axes_10\">\n   <g clip-path=\"url(#pf43a1be53b)\">\n    <image height=\"95\" id=\"image8d35d866ad\" transform=\"scale(1 -1)translate(0 -95)\" width=\"95\" x=\"1048.348729\" xlink:href=\"data:image/png;base64,\niVBORw0KGgoAAAANSUhEUgAAAF8AAABfCAYAAACOTBv1AAAABHNCSVQICAgIfAhkiAAAA1RJREFUeJztnDFIclEYhq9lixENoUOSi4PSIhS02drU3FJDUxCIUM0Jbk6CkoNODa0O0dCsQ1BTmeJYQrQWklNq29c59/+vf3/de1+vvc/0Hs65dXj4+Djeq9c3HA6HBoEwhd7Ab4bygVA+EMoHQvlAKB8I5QOhfCCUD4TygVA+EMoHQvlA/G7+s2KxqI0PDg4kr6ysSM5ms9q6ZDIpORAIOLQ792HlA6F8ID43H6bc3t5q4+3tbcnNZlPy9PS0tk5tT7lczqHduQ8rHwjlA3H1tHN3d6eNO53Ol647Pz+XzLZDbIHygVA+EFd7fiQS0cYLCwuSu92u5XUvLy+S6/W6ZPWTrxdh5QOhfCCufsI1c3NzI3ltbU2yz+ezvCadTkvO5/PObMwlWPlAKB8I5QOB9nyVqanPOjDf1bTi4uJCG29sbNi6J6dh5QOhfCBj03b29/clVyqVL12zubmpjavVqq17chpWPhDKBzI2beft7U3y8fGxNlcqlSS/v79b/o3d3V3J5XLZxt05AysfCOUDoXwgY9PzR3F4eCi5UChYrovH45L39va0uZ2dHcnz8/M27u77sPKBUD4QV5/hfpfn52fJ/X7fct39/b3kVqulzc3MzNi/sR/CygdC+UAoH4gnjpoqj4+Pkre2trS56+tryeYHMu12W3I0GnVod/8HKx8I5QPxxFFTRf3qoHon9F+odznH5WvmrHwglA/Ec6cdlaenJ228tLQk2Xza8fs/O2wikZB8cnKirVtdXbVziyNh5QOhfCCUD8RzR02VcDisjVOplORarabNqXc8Z2dnJV9dXWnr2PN/CZQPxNNHzVGov2AxjD9fN2PFYDBwYjt/hZUPhPKBePq0Mwr1aySGYRhzc3OSe72e5XWXl5eSl5eXtTnz74h/CisfCOUDoXwgE9vzQ6GQNlbvao7i6OhI8tnZmTbHnj9BUD6QiW076+vr2jgWi0lW3/lgRn31WKPR0ObUhzB2wMoHQvlAKB/IxPb8YDCojU9PTyWbbxuoqK8es/toaYaVD4TygUxs2zGzuLgoWX1DbSaT0dY9PDxIfn19dXRPrHwglA9kYp/hegFWPhDKB0L5QCgfCOUDoXwglA+E8oFQPhDKB0L5QCgfCOUD+QA7P8EYV5ZzEAAAAABJRU5ErkJggg==\" y=\"-21.894396\"/>\n   </g>\n   <g id=\"text_10\">\n    <!-- 1 -->\n    <defs>\n     <path d=\"M 12.40625 8.296875 \nL 28.515625 8.296875 \nL 28.515625 63.921875 \nL 10.984375 60.40625 \nL 10.984375 69.390625 \nL 28.421875 72.90625 \nL 38.28125 72.90625 \nL 38.28125 8.296875 \nL 54.390625 8.296875 \nL 54.390625 0 \nL 12.40625 0 \nz\n\" id=\"DejaVuSans-49\"/>\n    </defs>\n    <g transform=\"translate(1091.819364 16.318125)scale(0.12 -0.12)\">\n     <use xlink:href=\"#DejaVuSans-49\"/>\n    </g>\n   </g>\n  </g>\n </g>\n <defs>\n  <clipPath id=\"p1d9a4703bf\">\n   <rect height=\"94.576271\" width=\"94.576271\" x=\"26.925\" y=\"22.318125\"/>\n  </clipPath>\n  <clipPath id=\"p129770ac69\">\n   <rect height=\"94.576271\" width=\"94.576271\" x=\"140.416525\" y=\"22.318125\"/>\n  </clipPath>\n  <clipPath id=\"p90ac3a6649\">\n   <rect height=\"94.576271\" width=\"94.576271\" x=\"253.908051\" y=\"22.318125\"/>\n  </clipPath>\n  <clipPath id=\"p8498ee507d\">\n   <rect height=\"94.576271\" width=\"94.576271\" x=\"367.399576\" y=\"22.318125\"/>\n  </clipPath>\n  <clipPath id=\"p92809fecfb\">\n   <rect height=\"94.576271\" width=\"94.576271\" x=\"480.891102\" y=\"22.318125\"/>\n  </clipPath>\n  <clipPath id=\"p3c8ad6590e\">\n   <rect height=\"94.576271\" width=\"94.576271\" x=\"594.382627\" y=\"22.318125\"/>\n  </clipPath>\n  <clipPath id=\"p81834f2eb3\">\n   <rect height=\"94.576271\" width=\"94.576271\" x=\"707.874153\" y=\"22.318125\"/>\n  </clipPath>\n  <clipPath id=\"p584d159b8f\">\n   <rect height=\"94.576271\" width=\"94.576271\" x=\"821.365678\" y=\"22.318125\"/>\n  </clipPath>\n  <clipPath id=\"pae7df3f6b1\">\n   <rect height=\"94.576271\" width=\"94.576271\" x=\"934.857203\" y=\"22.318125\"/>\n  </clipPath>\n  <clipPath id=\"pf43a1be53b\">\n   <rect height=\"94.576271\" width=\"94.576271\" x=\"1048.348729\" y=\"22.318125\"/>\n  </clipPath>\n </defs>\n</svg>\n"
          },
          "metadata": {
            "tags": []
          }
        }
      ]
    },
    {
      "cell_type": "code",
      "metadata": {
        "id": "TXD1M3CCopR9",
        "colab_type": "code",
        "outputId": "3d218932-6191-4bb9-bc95-1ddd37139cd9",
        "colab": {
          "base_uri": "https://localhost:8080/",
          "height": 229
        }
      },
      "source": [
        "# Visualization of randomly chosen datapoints from the output dataset\n",
        "fig, axes = plt.subplots(1, 10, figsize=(20, 5))\n",
        "for i in range(10):\n",
        "  axes[i].imshow(x_test[i].reshape(28,28), cmap='binary')\n",
        "  axes[i].set_title(test_pred[i])\n",
        "  axes[i].axis('off')\n",
        "plt.show()"
      ],
      "execution_count": 16,
      "outputs": [
        {
          "output_type": "display_data",
          "data": {
            "text/plain": [
              "<Figure size 1440x360 with 10 Axes>"
            ],
            "image/svg+xml": "<?xml version=\"1.0\" encoding=\"utf-8\" standalone=\"no\"?>\n<!DOCTYPE svg PUBLIC \"-//W3C//DTD SVG 1.1//EN\"\n  \"http://www.w3.org/Graphics/SVG/1.1/DTD/svg11.dtd\">\n<!-- Created with matplotlib (https://matplotlib.org/) -->\n<svg height=\"140.772521pt\" version=\"1.1\" viewBox=\"0 0 1150.125 140.772521\" width=\"1150.125pt\" xmlns=\"http://www.w3.org/2000/svg\" xmlns:xlink=\"http://www.w3.org/1999/xlink\">\n <defs>\n  <style type=\"text/css\">\n*{stroke-linecap:butt;stroke-linejoin:round;}\n  </style>\n </defs>\n <g id=\"figure_1\">\n  <g id=\"patch_1\">\n   <path d=\"M 0 140.772521 \nL 1150.125 140.772521 \nL 1150.125 0 \nL 0 0 \nz\n\" style=\"fill:none;\"/>\n  </g>\n  <g id=\"axes_1\">\n   <g clip-path=\"url(#p0301e4bac2)\">\n    <image height=\"95\" id=\"image1b36bec983\" transform=\"scale(1 -1)translate(0 -95)\" width=\"95\" x=\"26.925\" xlink:href=\"data:image/png;base64,\niVBORw0KGgoAAAANSUhEUgAAAF8AAABfCAYAAACOTBv1AAAABHNCSVQICAgIfAhkiAAAA9ZJREFUeJztnM0rdFEcx888Hq8pViwsiCxI3mIlC5tZKGUlpeStFMmK/A3KwkLZEGsbG6Q0eUspNDUlyQJJlAhRFPPsfp1zmzvPfc7c8Z2n+X5W39s959zTp1+/bnPv3EA0Go0qAuEXegPpDOUDoXwglA+E8oFQPhDKB0L5QCgfCOUDoXwglA+E8oFQPhDKB0L5QCgfCOUDoXwgv20nfn5+Sn54eJA8PDyc2I6UUnNzc8ZxQUGB5MzMTMl5eXkJX+tfeHl5kZyTkyM5KyvLaj1WPhDKB0L5QAK27+0MDAxIXlpa8ms/f6W+vl7y0NCQca6qqkpyW1tbwtfa3d01jtvb2yV3dXVJXlxctFqflQ+E8oFYt51AIBAzx0O/ZVRKqcLCQk/zHh8fJb++vrqOKy4ulry8vGycCwaDMec8PT0Zx3o7PTw8NM7d3d3FXOP7+9t1T/Fg5QOhfCCUD8T65wUbGhoajOOenh7Jg4ODki8vL41x+m3d0dGR6/r39/cx5yil1OTkZMw5W1tbxvH29rbr+jqdnZ2exsWDlQ+E8oFY32pOT09Lnpqasrq4/stgeXm55Le3N2Pc1dWV1fp+09vbK3l2dlay8xbaK6x8IJQPxLrtnJ6eSl5fX5d8cHBgjFtdXbXcGoaysjLJIyMjxrmxsTHJ2dnZCV+LlQ+E8oFQPhDrnu+G8zZRf+js7P9FRUWSnQ/Ndc7PzyXf3t5KzsjIMMa1tra6rnFzcyP54uLCdVxNTY3kjY0N41xJSYnrPBtY+UAoH4jvbScZ7O3tSdZbkLPt9PX1ua4RiUQkd3R0SL6+vnad09LSYhxvbm5K9uOdIVY+EMoHQvlA/oue7zeNjY2Sw+Gw53n6w3bbXzJ1WPlAKB/Ijz7DTRXGx8cl9/f3w/bBygdC+UDSsu00Nzejt6CUYuVDoXwglA8kLXv+8/MzegtKKVY+FMoHkjJtZ2dnR/Lx8bGnOfpDEaWUqqys9DRvdHTU+8aSCCsfCOUDgbadUCgkWf+jhP4nh3g4v3nw9fXlOnZtbU2y/hw4Hs63r/Pz8z3N8worHwjlA6F8INBnuNXV1ZLPzs5Q2zAoLS2VvLKyYpxramry9VqsfCCUDwTadvb39yV3d3dL1t9ETgZ1dXWSc3NzjXPz8/OSa2trk7oPVj4QygdC+UBS5nXBiYkJyTMzM0m91snJiWT9s2E/DSsfCOUDSZm28/7+Lvnj48NqDf1zLQsLC67j9O8mVFRUWF3LD1j5QCgfSMq0nXSElQ+E8oFQPhDKB0L5QCgfCOUDoXwglA+E8oFQPhDKB0L5QP4AujX3TYN10F0AAAAASUVORK5CYII=\" y=\"-21.894396\"/>\n   </g>\n   <g id=\"text_1\">\n    <!-- 2 -->\n    <defs>\n     <path d=\"M 19.1875 8.296875 \nL 53.609375 8.296875 \nL 53.609375 0 \nL 7.328125 0 \nL 7.328125 8.296875 \nQ 12.9375 14.109375 22.625 23.890625 \nQ 32.328125 33.6875 34.8125 36.53125 \nQ 39.546875 41.84375 41.421875 45.53125 \nQ 43.3125 49.21875 43.3125 52.78125 \nQ 43.3125 58.59375 39.234375 62.25 \nQ 35.15625 65.921875 28.609375 65.921875 \nQ 23.96875 65.921875 18.8125 64.3125 \nQ 13.671875 62.703125 7.8125 59.421875 \nL 7.8125 69.390625 \nQ 13.765625 71.78125 18.9375 73 \nQ 24.125 74.21875 28.421875 74.21875 \nQ 39.75 74.21875 46.484375 68.546875 \nQ 53.21875 62.890625 53.21875 53.421875 \nQ 53.21875 48.921875 51.53125 44.890625 \nQ 49.859375 40.875 45.40625 35.40625 \nQ 44.1875 33.984375 37.640625 27.21875 \nQ 31.109375 20.453125 19.1875 8.296875 \nz\n\" id=\"DejaVuSans-50\"/>\n    </defs>\n    <g transform=\"translate(70.395636 16.318125)scale(0.12 -0.12)\">\n     <use xlink:href=\"#DejaVuSans-50\"/>\n    </g>\n   </g>\n  </g>\n  <g id=\"axes_2\">\n   <g clip-path=\"url(#pa2ed2b91c6)\">\n    <image height=\"95\" id=\"imagedf809c2867\" transform=\"scale(1 -1)translate(0 -95)\" width=\"95\" x=\"140.416525\" xlink:href=\"data:image/png;base64,\niVBORw0KGgoAAAANSUhEUgAAAF8AAABfCAYAAACOTBv1AAAABHNCSVQICAgIfAhkiAAAA9tJREFUeJztnM0rtFEYxs/whpKPYlZWygKFssCOlclWyr+A1YwmGztFyUIiH/+AjRiyY0UJS5oRTakJq7HARinmXb135zx5xvMeZ+YauX6r63Q/c57T1d2Ze87HhHK5XE4RCGXoAfxmaD4Qmg+E5gOh+UBoPhCaD4TmA6H5QGg+EJoPhOYDoflA/qAH8I+XlxfRh4eHvs/19fWJbmpqKuiYCg0zHwjNB1Lwaefo6Ej08fGx73PZbFb0+vq673MjIyOi29rajFhjY6Po8fHx/xonAmY+EJoPJORiD/f+/l701NSUEbu6uvpUe3l/fxddXl5uNY7q6mrRQ0NDgT6zsLBgtItZQTHzgdB8IDQfiJM5P5lMiu7q6rLq4+PjQ3RZmV1O2PTR0tJitFtbW0Xv7e1ZjSMozHwgNB+Ik2lHLw3zlYneMq6mpka0zZRxe3trtF9fXwONIx/5St6JiQnRMzMzomtra63excwHQvOB0HwgBV/V1FceNzY2jJi+MWLD5OSk0daXOfJ9b5yfn4t+eHgI/L7V1VXRlZWVoqenp43ngn4HMPOB0HwgzkvNjo4OI7a0tCS6v7//u69ywtbWlmjvSqteQgYtVy8uLoy2d5PHD2Y+EJoPxPm0Mzo6asQ2Nze/231R0aeks7MzI7a8vPzpZyKRiNHe398P9C5mPhCaD4TmA3Ey54dCIdH19fVGbG5uTvRPOEuj8/z8bLT1X7Jra2u+n9NXRvPBzAdC84E4WVjT90EzmYwRu7m5Ea2fRFbKfhOiWNTV1RntcDgsWi+vm5ubrfpn5gOh+UBoPhAnc34ikRDd3d1txPw2IJRSqqenR7S+mT44OOhiWN9G35xRSqnr6+tPn9vd3bXqn5kPhOYDKeqFuMXFRd+Yfkzv8vKyGMP5ktPTU6O9vb3ttH9mPhCaD6Rk7uGWCnqF47d5opRS0WhUtO1tFmY+EJoPhOYDcb6qOT8/b8Ti8XigPtLptOjOzk6rceiri7a3Sp6enkSfnJz4Ptfb2yuaR8R/IDQfiJNpp6qqSnQsFjNi+gbK7Oysbx9vb2+i/RawviKVSomuqKiw6sPFZeygMPOB0HwgBf+F297eLnp4eNiIHRwciPYe0yhF9NPHLv6jgZkPhOYDoflAnBwXtGVlZUX04+OjaG+pubOzE6g/F2ViQ0OD6LGxMSM2MDAg2sUtG2Y+EJoPBDrt+HF3d2e0vTdECom+SOa9ceIaZj4Qmg+E5gMpyTn/t8DMB0LzgdB8IDQfCM0HQvOB0HwgNB8IzQdC84HQfCA0HwjNB0LzgdB8IDQfCM0HQvOB0HwgfwGZKfnVBaXfSQAAAABJRU5ErkJggg==\" y=\"-21.894396\"/>\n   </g>\n   <g id=\"text_2\">\n    <!-- 0 -->\n    <defs>\n     <path d=\"M 31.78125 66.40625 \nQ 24.171875 66.40625 20.328125 58.90625 \nQ 16.5 51.421875 16.5 36.375 \nQ 16.5 21.390625 20.328125 13.890625 \nQ 24.171875 6.390625 31.78125 6.390625 \nQ 39.453125 6.390625 43.28125 13.890625 \nQ 47.125 21.390625 47.125 36.375 \nQ 47.125 51.421875 43.28125 58.90625 \nQ 39.453125 66.40625 31.78125 66.40625 \nz\nM 31.78125 74.21875 \nQ 44.046875 74.21875 50.515625 64.515625 \nQ 56.984375 54.828125 56.984375 36.375 \nQ 56.984375 17.96875 50.515625 8.265625 \nQ 44.046875 -1.421875 31.78125 -1.421875 \nQ 19.53125 -1.421875 13.0625 8.265625 \nQ 6.59375 17.96875 6.59375 36.375 \nQ 6.59375 54.828125 13.0625 64.515625 \nQ 19.53125 74.21875 31.78125 74.21875 \nz\n\" id=\"DejaVuSans-48\"/>\n    </defs>\n    <g transform=\"translate(183.887161 16.318125)scale(0.12 -0.12)\">\n     <use xlink:href=\"#DejaVuSans-48\"/>\n    </g>\n   </g>\n  </g>\n  <g id=\"axes_3\">\n   <g clip-path=\"url(#p8585c4b1d7)\">\n    <image height=\"95\" id=\"image43239d2f73\" transform=\"scale(1 -1)translate(0 -95)\" width=\"95\" x=\"253.908051\" xlink:href=\"data:image/png;base64,\niVBORw0KGgoAAAANSUhEUgAAAF8AAABfCAYAAACOTBv1AAAABHNCSVQICAgIfAhkiAAAA/hJREFUeJztnE0obl8UxtcrREgMZG6kJIlEGIgyMDAhnzMJE1EGTBQpI4UxYWQiM0JKIgNJvkLGTKQoH0VxZ6u9Tve+//+953We8977/Ea/097s3dNqdc57PiJfX19fQiAkoDfwL8PwgTB8IAwfCMMHwvCBJAa52N3dnTkuKChQ39/fV8/Pzw9sT0hY+UAYPpBIkFe4Hx8f5rimpka9qKhIfXZ2NqgtQWHlA2H4QBg+kEB7vpe9vT312tpa9fn5eTOvra3t2/bw+PhojicnJ9Vvbm7MWFJSkvry8rLvtVn5QBg+EGjbcens7FRfXV01YycnJ+p5eXkxXXdoaMgcb21tqff395uxpqYm9fT0dN9rs/KBMHwgoWk7Ly8v6qWlpb+c57Yg9+zjT3l/fzfHn5+f6ikpKb7/fzRY+UAYPhCGDyQ0Pd/l/PzcHJeXl6s3Nzerz83NBban74CVD4ThAwll2/GyuLioPjAwoL6zs2PmFRYWBrWlmMDKB8LwgTB8IHHR892fAIqLi9UjkYiZd3BwoB6LXx2/G1Y+EIYPJC7ajsvV1ZV6SUmJGYt29ettUWGAlQ+E4QOJu7bj4n18o7W1VX1zc9OM1dXVBbKn34GVD4ThA2H4QELT89fX19W9/To3N1e9qqpK3b3JIiLS09Oj7r7pIiJyenqqnpAQjpoLxy7+URg+EGjb2djYUG9sbFTPyckx815fX9UfHh7U6+vrzbzh4WF192pXRGRmZkbdfewPCSsfCMMHwvCBQHv+yMiI+srKivr19bWZ9/T0pH5xcfHTvxEROT4+Vvc+Z3l2dqZ+eHio7p7GBg0rHwjDBxLotxeikZyc/MuxzMxM9YqKip+6iH25bXp62oy57WpwcFB9aWnJzEtMDC4SVj4Qhg8Eerbjnq10dHSouy+liYhUVlb6Xmt7e1u9vb1dfWxszMzr7u72vdb/hZUPhOEDYfhAQnMzxb357X302z1NzM7O9r3W2tqaektLixlzv73Q19fne61osPKBMHwgoWk7t7e36mVlZWbM/dqg9zTULwsLC+Z4dHRU3X00UUQkNTU1pmuz8oEwfCChaTsu7ksOIiINDQ3qbkvyfoXwTz4H8/z8bI7dR1N2d3fNWEZGxm///2iw8oEwfCAMH0goe74X9wPYXV1d6kdHR2be+Pi4enV1tRlLS0tTdx9N9F5N39/fq8f6tNYLKx8IwwcSF23HxX0n13v/dWpqSv3y8tKMuVenb29v6r29vWbexMSEelZWlr/N/gesfCAMHwjDBxJ3Pf9vgpUPhOEDYfhAGD4Qhg+E4QNh+EAYPhCGD4ThA2H4QBg+EIYPhOEDYfhAGD4Qhg+E4QNh+EB+APgOLlM6PQCXAAAAAElFTkSuQmCC\" y=\"-21.894396\"/>\n   </g>\n   <g id=\"text_3\">\n    <!-- 9 -->\n    <defs>\n     <path d=\"M 10.984375 1.515625 \nL 10.984375 10.5 \nQ 14.703125 8.734375 18.5 7.8125 \nQ 22.3125 6.890625 25.984375 6.890625 \nQ 35.75 6.890625 40.890625 13.453125 \nQ 46.046875 20.015625 46.78125 33.40625 \nQ 43.953125 29.203125 39.59375 26.953125 \nQ 35.25 24.703125 29.984375 24.703125 \nQ 19.046875 24.703125 12.671875 31.3125 \nQ 6.296875 37.9375 6.296875 49.421875 \nQ 6.296875 60.640625 12.9375 67.421875 \nQ 19.578125 74.21875 30.609375 74.21875 \nQ 43.265625 74.21875 49.921875 64.515625 \nQ 56.59375 54.828125 56.59375 36.375 \nQ 56.59375 19.140625 48.40625 8.859375 \nQ 40.234375 -1.421875 26.421875 -1.421875 \nQ 22.703125 -1.421875 18.890625 -0.6875 \nQ 15.09375 0.046875 10.984375 1.515625 \nz\nM 30.609375 32.421875 \nQ 37.25 32.421875 41.125 36.953125 \nQ 45.015625 41.5 45.015625 49.421875 \nQ 45.015625 57.28125 41.125 61.84375 \nQ 37.25 66.40625 30.609375 66.40625 \nQ 23.96875 66.40625 20.09375 61.84375 \nQ 16.21875 57.28125 16.21875 49.421875 \nQ 16.21875 41.5 20.09375 36.953125 \nQ 23.96875 32.421875 30.609375 32.421875 \nz\n\" id=\"DejaVuSans-57\"/>\n    </defs>\n    <g transform=\"translate(297.378686 16.318125)scale(0.12 -0.12)\">\n     <use xlink:href=\"#DejaVuSans-57\"/>\n    </g>\n   </g>\n  </g>\n  <g id=\"axes_4\">\n   <g clip-path=\"url(#pad1921d153)\">\n    <image height=\"95\" id=\"image5afe25cd2c\" transform=\"scale(1 -1)translate(0 -95)\" width=\"95\" x=\"367.399576\" xlink:href=\"data:image/png;base64,\niVBORw0KGgoAAAANSUhEUgAAAF8AAABfCAYAAACOTBv1AAAABHNCSVQICAgIfAhkiAAAA21JREFUeJztm79LK0EUhTciJiJoExAsAmKhhRaC/gMJiBBCUJCIlViJNmJjYSWCNgFJEcHKMiFVCARSBQs1naAW2okoooWNqJ3mdffNXTTsy/447/nOV51hJ7vDl+u4OzsJNZvNpkUgdKAH8D9D+UAoHwjlA6F8IJQPhPKBUD4QygdC+UAoHwjlA6F8IJQPhPKBUD4QygdC+UAoHwjlA6F8IJQPhPKBdAZ5sY+PD9UulUqSn5+fJdu3Es3NzUnu6+uT3N3d7fUQA4WVD4TygYSC3C64sLCg2oVC4Y/PMTs7K/ng4EAdi0aj7Q0MBCsfCOUDoXwggc75w8PDqn17eys5Ho9Lvri4UP0eHh4cnW9vb0/y9PR02+MMClY+EMoH4vu0c319LXlyclIdW1tbk7y9vS359fVV9VtfX5dcq9Uk39/fq37hcFjy4uKiOra6uip5dHTUydB9h5UPhPKBQKedcrksOZFIODqfuQC3tbWljh0eHkq2T12xWExytVqVjJyCWPlAKB8I5QOBPuF2dPz+7q+urlyf3/z/kslk1LHLy0vJkUhE8snJieo3Pj7uehxOYeUDoXwggU47u7u7qm3eKh4fH0uemJhwfa3z83PVnp+fl2xOT/apsF6vSx4YGHA9jlaw8oFQPhDKBxLonP/y8qLam5ubkpPJpGQ/XoR8t8zx9vb27Wc+Pz89H4cJKx8I5QMJdLtgb2+vat/c3EiemZmRfHd3p/p5sR9nZGREciqVklwsFlW/wcFB19dyCisfCOUDUXc75jRgWf7/CT49PUnOZrOSh4aGVL/l5WVPr3t2dia51dM073Z+MJQPhPKBqFvNIG+zLMuy+vv7JW9sbEje2dlR/R4fHyV78cuUrq6utj7nNax8IJQPJNAn3FZUKhXJ5g/lLEvvPp6ampLc09Oj+pm/WrFj7vfZ39+XbF9XXFpacjhi97DygVA+kEDX852ysrKi2o1GQ3I+n5d8enqq+uVyOcn2HcyhUOjLa42Njam2/d2vn7DygVA+EMoH8lfO+XbM96/mSxH7quP7+7tk+wrt0dHRl+dOp9OqbW4l9xtWPhDKB/JPTDs/FVY+EMoHQvlAKB8I5QOhfCCUD4TygVA+EMoHQvlAKB8I5QOhfCCUD4TygVA+EMoHQvlAKB8I5QOhfCCUD+QXFKnq6wZJZAsAAAAASUVORK5CYII=\" y=\"-21.894396\"/>\n   </g>\n   <g id=\"text_4\">\n    <!-- 4 -->\n    <defs>\n     <path d=\"M 37.796875 64.3125 \nL 12.890625 25.390625 \nL 37.796875 25.390625 \nz\nM 35.203125 72.90625 \nL 47.609375 72.90625 \nL 47.609375 25.390625 \nL 58.015625 25.390625 \nL 58.015625 17.1875 \nL 47.609375 17.1875 \nL 47.609375 0 \nL 37.796875 0 \nL 37.796875 17.1875 \nL 4.890625 17.1875 \nL 4.890625 26.703125 \nz\n\" id=\"DejaVuSans-52\"/>\n    </defs>\n    <g transform=\"translate(410.870212 16.318125)scale(0.12 -0.12)\">\n     <use xlink:href=\"#DejaVuSans-52\"/>\n    </g>\n   </g>\n  </g>\n  <g id=\"axes_5\">\n   <g clip-path=\"url(#pa8632ddfc3)\">\n    <image height=\"95\" id=\"image62a7c87d0e\" transform=\"scale(1 -1)translate(0 -95)\" width=\"95\" x=\"480.891102\" xlink:href=\"data:image/png;base64,\niVBORw0KGgoAAAANSUhEUgAAAF8AAABfCAYAAACOTBv1AAAABHNCSVQICAgIfAhkiAAABA9JREFUeJztnEsofV0Yxtf5+rvfQonIiBiIjGVkJkqGJMSUIspcSQbkMlKSMmSAgQxkQJkQuQ0wZ+BS5JLJ+WZv79qdfTqXvT1b5/mNnnXW2muv/fT2tvZZa69QOBwOGwLhP/QAUhmaD4TmA6H5QGg+EJoPhOYDoflAaD4Qmg+E5gOh+UBoPhCaD4TmA6H5QP75fYOfnx/RU1NTVt3m5qbo6+tr1z4qKytFNzY2ii4sLLTaNTc3i+7u7rbq0tPTYxzx78HIB0LzgYT8XsPd2toS3dHRYd88FIqpDz3EWK9paGiwypOTk6Lb2tpi6sNvGPlAaD4Qmg/E95x/d3cnemBgwKo7OjqKeE1xcbFVrqmpEa1z/tnZmdXu8/NTtPOxMjMzRS8vL4vu6elxHbvfMPKB0Hwgvqcdze3trVUeHBwUfXh4KDojI8Nqd3x8LFq/4b6+vlrtTk9PRY+Pj1t15+fnoktLSyPe1xhjqqqq3B/AYxj5QGg+EJoP5FdzvpP393fRS0tLoufm5qx239/fom9ubkRXVFS49v309GSVS0pKIrZbWVmxyv39/VFG7C2MfCA0Hwg07bjx/PxsldfW1kRfXV2JXlhYsNrl5uaKjjXtzM/PW+WhoaH4BpsEjHwgNB+I72u4ieD8Y210dDTuPvTiSTSQWZeRD4TmA6H5QAI51UyU3d1d0a2tra7tqqurRZ+cnFh1+fn53g/MBUY+EJoPJJBTzWh8fX2J1m++xhgzMjLiel1aWpro4eFh0b+ZZpww8oHQfCA0H8ifmGpeXl6K7uvrE+3ct6NxPlZ7e7vo7e1t7waXBIx8IDQfyJ+Yau7s7IiOlmqioaeoWmdlZSU+sCRh5AOh+UD+xGzn7e1N9PT0tOjHx0ernd7qt7i4aNXptnrGtLq66tUw44aRD4TmA6H5QAKT8/VenY+PD6tOfwQdK9H27egF+oODA6tdXV1d3PdKFEY+EJoPBPqGq3cp669RnPt2EqGgoMAq19fXi764uBDNtJOi0Hwg0LSTl5fnW9/6IwpjjHl5eYnYbmNjwypzl3KKQPOB0HwggVxMeXh4sMplZWVx91FeXm6V9dkL+qW+qakp7r69gpEPhOYDCUzamZiYED0zM2PVra+vi+7q6nLtQ59kODs7a9Xd39+L1icNjo2NxT9Yj2DkA6H5QGg+kMDk/OzsbNc6fR6C/gjaid4G6DyhVh8P1tLSIrqoqCiucXoJIx8IzQcSmDVcfTJgb2+vVaf/eUzkFFpjjKmtrRW9t7cnOpH1Ya9g5AOh+UACk3Y0em3XGGP29/dF64/g9O/G2NsFnR/HdXZ2is7JyfFknMnCyAdC84HQfCCBzPmpAiMfCM0HQvOB0HwgNB8IzQdC84HQfCA0H8j/H3MflTck5mgAAAAASUVORK5CYII=\" y=\"-21.894396\"/>\n   </g>\n   <g id=\"text_5\">\n    <!-- 3 -->\n    <defs>\n     <path d=\"M 40.578125 39.3125 \nQ 47.65625 37.796875 51.625 33 \nQ 55.609375 28.21875 55.609375 21.1875 \nQ 55.609375 10.40625 48.1875 4.484375 \nQ 40.765625 -1.421875 27.09375 -1.421875 \nQ 22.515625 -1.421875 17.65625 -0.515625 \nQ 12.796875 0.390625 7.625 2.203125 \nL 7.625 11.71875 \nQ 11.71875 9.328125 16.59375 8.109375 \nQ 21.484375 6.890625 26.8125 6.890625 \nQ 36.078125 6.890625 40.9375 10.546875 \nQ 45.796875 14.203125 45.796875 21.1875 \nQ 45.796875 27.640625 41.28125 31.265625 \nQ 36.765625 34.90625 28.71875 34.90625 \nL 20.21875 34.90625 \nL 20.21875 43.015625 \nL 29.109375 43.015625 \nQ 36.375 43.015625 40.234375 45.921875 \nQ 44.09375 48.828125 44.09375 54.296875 \nQ 44.09375 59.90625 40.109375 62.90625 \nQ 36.140625 65.921875 28.71875 65.921875 \nQ 24.65625 65.921875 20.015625 65.03125 \nQ 15.375 64.15625 9.8125 62.3125 \nL 9.8125 71.09375 \nQ 15.4375 72.65625 20.34375 73.4375 \nQ 25.25 74.21875 29.59375 74.21875 \nQ 40.828125 74.21875 47.359375 69.109375 \nQ 53.90625 64.015625 53.90625 55.328125 \nQ 53.90625 49.265625 50.4375 45.09375 \nQ 46.96875 40.921875 40.578125 39.3125 \nz\n\" id=\"DejaVuSans-51\"/>\n    </defs>\n    <g transform=\"translate(524.361737 16.318125)scale(0.12 -0.12)\">\n     <use xlink:href=\"#DejaVuSans-51\"/>\n    </g>\n   </g>\n  </g>\n  <g id=\"axes_6\">\n   <g clip-path=\"url(#p5a6c070eb7)\">\n    <image height=\"95\" id=\"imageda9a3e6ea6\" transform=\"scale(1 -1)translate(0 -95)\" width=\"95\" x=\"594.382627\" xlink:href=\"data:image/png;base64,\niVBORw0KGgoAAAANSUhEUgAAAF8AAABfCAYAAACOTBv1AAAABHNCSVQICAgIfAhkiAAABApJREFUeJztnE0obVEUx/fVU0aUDEgYkCSfhWJMDCjykSkSA8xkwsjAwMCEiaSYyQglkpmUgXwkyccARSkGSIrcN1tvr/Mc7737zrn/c/P/jf67tZ2z/FuWc/be94bC4XDYEAhx6AS+MzQfyA90Ap+xtramxhMTE6JbWlpEd3d3Ry0nP2DlA6H5QGg+kED2/MPDQzXe2NgQfX19LZo9n0QMzQcSyLaTmZnpGru5uRF9cnKiYnl5eb7l5AesfCA0HwjNBxLInt/W1qbGS0tLohcWFkSvr6+reez55K+h+UBCsbCZYredxsZG0ampqWre7e1t1HLyAlY+EJoPJCbajk1vb6/o6elpFVtcXBTd3NwctZwihZUPhOYDoflAYq7n2yuZ+fn5KpaVlSV6d3dXxZKTk/1NLAJY+UBoPpBALqx9RXp6uuja2loVs8/7jI+Pq9jY2Ji/iUUAKx8IzQdC84HE3KOmzevrqxqnpaWJfn9/V7GdnR3RzkdUFKx8IDQfSEy3HSdbW1uiGxoaVMxuSXNzc6LLy8v9T8wFVj4Qmg8kkG1ncHBQje1TywUFBaKdGybZ2dmiR0ZGVGxmZkZ0TU2N6KmpKTUvJycngowjg5UPhOYDoflAAtnzS0tL1fjg4OCvfs4+x/Px8aFid3d3n/5MRUWFGtuffMzNzXW91+npqeiysjIVi4+P/3OyhpUPheYDCWTbOTs7U2N7kyQhIUH06uqqmmf/KqFQyPX6x8fHrveyr1FdXa1iz8/Pou2FOvvN2hhjqqqqXO9tw8oHQvOB0HwgnvT8yclJ0aOjoyrW398venh4+H9v5QkdHR2i7RVOY/SSxfz8vIrFxf2q1aenJ9FJSUlqHh81YwCaD8STttPV1SV6dnZWxVJSUkSfn5+rmPPPNVq8vLyIrqysVDF7BXVlZUXF6uvrPc2DlQ+E5gPx/Lig883y/v5etPOTJM5NEz95eHgQbb+dui24GaMXz/yAlQ+E5gOh+UA86fkDAwOil5eXVczu+c5HTa+5uLgQfXR0pGL2kfHt7W3Xa/T09Iju6+vzMLvfYeUDoflAPGk7xcXFotvb21XMPhdzdXWlYvZ4f39ftHODw55nf7ugk729PdGXl5eu8+rq6kQ3NTWpWDS/sZCVD4TmA/H8DTcjI8M1trm5qcaFhYWiHx8fRX+1/2pjf+7WGL2/29raqmJDQ0OiS0pKRNtr9NGGlQ+E5gOh+UA87/l2HzdGfzus8/Hv7e1NdGdnp+s17fMz9v+UoqIiNS8xMfHfkgXDygdC84EE8rjgd4GVD4TmA6H5QGg+EJoPhOYDoflAaD4Qmg+E5gOh+UBoPhCaD4TmA6H5QGg+EJoPhOYDoflAaD4Qmg+E5gOh+UB+Ant0GtMbiWoOAAAAAElFTkSuQmCC\" y=\"-21.894396\"/>\n   </g>\n   <g id=\"text_6\">\n    <!-- 7 -->\n    <defs>\n     <path d=\"M 8.203125 72.90625 \nL 55.078125 72.90625 \nL 55.078125 68.703125 \nL 28.609375 0 \nL 18.3125 0 \nL 43.21875 64.59375 \nL 8.203125 64.59375 \nz\n\" id=\"DejaVuSans-55\"/>\n    </defs>\n    <g transform=\"translate(637.853263 16.318125)scale(0.12 -0.12)\">\n     <use xlink:href=\"#DejaVuSans-55\"/>\n    </g>\n   </g>\n  </g>\n  <g id=\"axes_7\">\n   <g clip-path=\"url(#pbca5a3a7d2)\">\n    <image height=\"95\" id=\"imagee3daec3fd1\" transform=\"scale(1 -1)translate(0 -95)\" width=\"95\" x=\"707.874153\" xlink:href=\"data:image/png;base64,\niVBORw0KGgoAAAANSUhEUgAAAF8AAABfCAYAAACOTBv1AAAABHNCSVQICAgIfAhkiAAABJJJREFUeJztnEsof1sUx9fvuvIKEyEpeUwUBiKlGFAeI28xkUQGBqYyZKKUpMgjiYHklbzyHBmRkUSUGSFh4J3kzlZ7n7/j7t/vd/hy7/qMvrt19j7Lt9W2z9n7/Fzv7+/vJED4C53A/xkxH4iYD0TMByLmAxHzgYj5QMR8IGI+EDEfiJgPRMwHIuYD+fs7bzYzM6O1q6qqvBqvr69PayclJbGOiorSYjExMV7d6yuQygci5gNxOb2ZsrOzo7W3trZYt7W1abHHx0cnb01vb2+sc3NztVh/fz/r+Ph4R+/rKVL5QMR8II5MO4eHh6ytK5iDgwNvhzdGnXZ8fHy0WEZGBuvU1FTWPT09X5+YDVL5QMR8IGI+EEeecK+vr1m7M8eHhISwDg8Pd/tet7e3xvfa3t5mvbu7y/rh4UG7rquri3VoaKjx+J4glQ9EzAfyrS/WrJSXl7MeGBgw6jM1NcV6bW1Ni11cXLBeWVmxHUNdko6NjWkxdYna2dmpxZyehqTygYj5QMR8INA53xMqKio+1EREl5eXrJeWlrRYb28v6729PdvxR0ZGWKv/G4iIhoeH3Uv2X5DKByLmA3Fk2vH19WUdGBioxT7bMHl5eflQ+/n5eZRHREQE67q6Oi2Wl5fHOisri/Xp6anteMvLyx7lYYpUPhAxH4jje7jWp8LW1lajfkNDQ6xra2udTOkP1KmmqKhIi6kroeDgYC22urrKOj093es8pPKBiPlAxHwgjj/hZmdna+3ExETW6kY7kujoaNZNTU1arLGxkfXd3Z0Wq6mpYa2+hbX+zaZI5QMR84E4Pu2o52OIiOLi4ljv7+/b9uvo6GBtPc28sLDgUHZ/Yl1pW1+mqRwdHbFWj0XKtPMLEfOBiPlAvnwzZW5ujrX61pGI6ObmhvXJycmHmoiotLSU9ezsrKP5uVwurW0942nazxOk8oGI+UC+dQ+3urpaa6v7qt+JOt2tr69DciCSyoci5gP51mmnvb1da6tPl9ZvalXUU8Xq6qm4uNijPK6urlhPT097NIYTSOUDEfOBiPlAHN9Ad4fn52fWDQ0NrCcmJmz7BAUFsVaP9hERlZSUGN13Y2ODdWFhoVEfIqKCggLWk5OTrAMCAozHUJHKByLmA4GeUvb392edk5PD2nrCWN1LVT9gq6ys1K57fX21vdfm5iZr9YsY0/yIiPLz81l7OtWoSOUDEfOBQFc7doyOjmrt+vp6o37qE3RLS4sWU1dCi4uLRuOFhYVp7fPzc6N+pkjlAxHzgYj5QH7knG9dMnZ3d7P+7Mi5ujS0/prg2dkZ6/v7e6M8YmNjtfbx8bFRP1Ok8oGI+UB+5He4T09PWtv0uIj69Kse7XOHlJQU1l95TJFIKh+KmA9EzAfyI5eaVubn51mXlZXZXvfZTzvakZaWprUHBwdZJycnm6boEVL5QMR8IL9i2lF/UbC5uZn1+Pi4dp36p1hPEatfvmRmZrKOjIzUrktISPAuWTeQygci5gP5FdPOfxWpfCBiPhAxH4iYD0TMByLmAxHzgYj5QMR8IGI+EDEfiJgPRMwH8g9vlUazVPa5mAAAAABJRU5ErkJggg==\" y=\"-21.894396\"/>\n   </g>\n   <g id=\"text_7\">\n    <!-- 0 -->\n    <g transform=\"translate(751.344788 16.318125)scale(0.12 -0.12)\">\n     <use xlink:href=\"#DejaVuSans-48\"/>\n    </g>\n   </g>\n  </g>\n  <g id=\"axes_8\">\n   <g clip-path=\"url(#pffc4c49771)\">\n    <image height=\"95\" id=\"image7fe063af76\" transform=\"scale(1 -1)translate(0 -95)\" width=\"95\" x=\"821.365678\" xlink:href=\"data:image/png;base64,\niVBORw0KGgoAAAANSUhEUgAAAF8AAABfCAYAAACOTBv1AAAABHNCSVQICAgIfAhkiAAAA+5JREFUeJztnM0rdVEUxvd9Q8lEKUQ+MhAhRpKJfMxMjFAGyggDIxlSJv4AJpgoBkpSJpRCUYxkRuRrJKF8hAnuO1vtdXL2e97r3Pu41/MbPbu123f1tFqdc/c+OxKNRqOGQPiDTuA3Q/OB0HwgNB8IzQdC84HQfCA0HwjNB0LzgdB8IDQfCM0HkhbGItfX16JbW1tV7Pj4+L/Xq6+vV+O2tjbR6enpooeHh9W8jIyML+f9VFj5QGg+kEgYmyl9fX2i5+bmvrucEzvdSCSiYl1dXaKnpqZULCcnJ655xQIrHwjNBxJK21ldXRXtfQJx8fDwIDo7O1v04+Ojmnd7eyva1XZsqqqq1Hh9fV10YWFh4BzjCSsfCM0HQvOBhNLzY+Xo6Eh0ZWWl6NPTUzXv8PBQ9Obmpujp6enAv5Wbmyt6e3tbdEVFReA1woaVD4TmA4G2nVh4f38XvbKyomJDQ0Oib25ufNdoaGgQPTExoWJNTU3fTTEwrHwgNB8IzQeSdD3fxcnJiej+/n4Vsx8vbTo7O9V4cXEx9Lz8YOUDoflAQtnD/SmUl5eLHhkZUTG/toOElQ+E5gNJqbZjk5eXF2ievclijDFXV1eiS0pKQs3JCysfCM0HQvOBJLTn2/3UGGM6OjpE25vkXhobG0W3tLSI9r7F2lRXV6txc3Oz6K2tLdFPT09q3v7+vmj2/BSG5gNJaNuxjxUao/dmXSwtLX2pNzY21LyxsTHR9p6tMbqFuP5LfH5+DpRTGLDygdB8IDQfSEI3U87OztTY/uLE+xjqR9CzmkHxfsFinyUqKyv79vouWPlAaD4Q6B6ufSxwbW1N9OTkpJp3fn4u+vPzU3QYbYd7uL8Umg8kKY6OzM/Pix4fHxf98fGh5l1eXgZaLysrS/Ts7KyKdXd3x5BhbLDygdB8IDQfSFL0fD/e3t7UeGBgQLT9haQx+svHgoIC0bu7u2peaWlpiBm6YeUDoflAkrrtuLDvYTBGb8LYHBwcqHFdXV3ccvLCygdC84Gk7HHBnp4eNfZrO0hY+UBoPhCaD+TH9Hz7H8ne3l4Vq62tFT04OCjadW/Cy8tLeMnFCVY+EJoPBPqGe3FxIbq9vV206yJU+5ZA742B9mnm5eVlFbOPARYVFYne2dlR84qLi/+Vdmiw8oHQfCA0Hwj0UTM/P190TU2NaFfPv7u7E31/f69i9t0LLmZmZkQnssd7YeUDoflAoG0nMzNT9MLCgmi7BRljzOvrq2j7DoW9vT3fte2WZowxo6Ojou3T0UhY+UBoPpCU3cNNBlj5QGg+EJoPhOYDoflAaD4Qmg+E5gOh+UBoPhCaD4TmA6H5QP4C0kQYBt2n1osAAAAASUVORK5CYII=\" y=\"-21.894396\"/>\n   </g>\n   <g id=\"text_8\">\n    <!-- 3 -->\n    <g transform=\"translate(864.836314 16.318125)scale(0.12 -0.12)\">\n     <use xlink:href=\"#DejaVuSans-51\"/>\n    </g>\n   </g>\n  </g>\n  <g id=\"axes_9\">\n   <g clip-path=\"url(#pb759b44f4f)\">\n    <image height=\"95\" id=\"image3be5540d94\" transform=\"scale(1 -1)translate(0 -95)\" width=\"95\" x=\"934.857203\" xlink:href=\"data:image/png;base64,\niVBORw0KGgoAAAANSUhEUgAAAF8AAABfCAYAAACOTBv1AAAABHNCSVQICAgIfAhkiAAABJBJREFUeJztnDksvE0cx2eRIBEUgkJCHC1KiSsiEYWjkOicCRoiCqKhIhE6VApXJRSOViFCoZQonHGEOBKJoxAS4q3eX2bmv8/+d599Nl/e9/upvrMzz8zmm9/OzvWM7/v7+1sRCFHoL/B/huYDoflAaD4Qmg+E5gOh+UBoPhCaD4TmA6H5QGg+EJoPJCbSDby/v4t+eHgw8tra2kT7fL6Q6y4pKTHS7e3topOTk428pKSkkOuPNIx8IDQfiM/rzZTt7W0jvbi46FcrpdTX15fo6OjokNvSn7frKCsrM/LKy8tF19fXiy4oKAi5Xa9g5AOh+UA86XZubm5E2z/j19dXx+f0bqOwsFD08/OzUe76+vqvzysVfNeVkpIiuqmpycgbHx8Pqg4vYOQDoflAaD4Q1zPc3d1d0ZOTk6Kfnp6CrqO4uFj0ysqK6Pv7e6Pc8vKy6LGxMdH235X9H+CEPtNeXV11LBfp/p+RD4TmA3E91Jyfnxfd0dHhWC4tLU300tKSkWcvjIXL4+Oj6IGBASNP78o2NzdFBxquDg0NGXnDw8OefM9/YeQDoflAaD4QzzdTEhMTjfTCwoJor/t4G33ZYHZ21sjb29sTfXR0JPry8tKxvpeXFyP9+fkpOiYmfOsY+UBoPhDXv52NjQ2/n/f29hrpyspKt014SlFRkejz83PRUVHO8afP3JVSKisrS3RPT0/Y34mRD4TmA3Hd7RweHvr9/OrqykjrR0fi4uLcNhcxJiYmjPTg4KBjWX1W39jYKFqfxYcCIx8IzQdC84F4sqqpH9Ozubi4EJ2ZmemmqYhydnZmpGtra0UfHx87Pjc3Nye6paXFVduMfCA0H4gnC2uBzsvU1NSIXltbM/JycnK8aD4scnNzjfTOzo7oqqoqI+/g4EC0m1PVNox8IDQfCM0H4rrPr66uFl1RUSF6a2vLKKdvXNgroX19fW6bjxj6hox+lFwps8/3AkY+EJoPxHW3k56eLnpmZkZ0Xl6e4zP2WZrs7GzR9k/8p7O+vi66ubnZVR2MfCA0H4gnM9yMjAzR9t7m1NSU43P6z3V6elq0/bbITyTQoluwMPKB0HwgNB+IJ32+fnTOHnbpm+b6WyVKmW8qdnd3i7aPHKKGoYHefOnv7w+7fkY+EJoPxPNTyvrLzHZan9EqpVRnZ6fot7c30fYdDfHx8aL1DQ77qJ++qVNXV2fkdXV1+a3D3sPVF/9GR0cd6+dmyi+H5gPx/MqXUBgZGRGtj4Q+Pj6McvqtUfn5+aLtvYNAe8lOddzd3RnlTk9PHeuIjY0Vrb/00dDQ4PhMIBj5QGg+EJoPBNrn6+jHD+2hpn6WRsftfTvB1mFfFabP3t0eEdRh5AOh+UAifqlpsLS2tgZV7uTkRPTt7a2Rpw8FU1NTjTynq8Lst0pKS0tF63vTSv15UWq4MPKB0HwgNB/IjxlqBot+vZi9IpmQkCDaPvq9v7/vtz67XKTvh9Bh5AOh+UB+XbfzX4KRD4TmA6H5QGg+EJoPhOYDoflAaD4Qmg+E5gOh+UBoPhCaD4TmA6H5QGg+kH8Ahxo9ouHiUBkAAAAASUVORK5CYII=\" y=\"-21.894396\"/>\n   </g>\n   <g id=\"text_9\">\n    <!-- 0 -->\n    <g transform=\"translate(978.327839 16.318125)scale(0.12 -0.12)\">\n     <use xlink:href=\"#DejaVuSans-48\"/>\n    </g>\n   </g>\n  </g>\n  <g id=\"axes_10\">\n   <g clip-path=\"url(#pcdc39185f7)\">\n    <image height=\"95\" id=\"imageea48a75328\" transform=\"scale(1 -1)translate(0 -95)\" width=\"95\" x=\"1048.348729\" xlink:href=\"data:image/png;base64,\niVBORw0KGgoAAAANSUhEUgAAAF8AAABfCAYAAACOTBv1AAAABHNCSVQICAgIfAhkiAAAA/FJREFUeJztnE0otFEUx++8EWUjrLCxsmEhbJCyYENJPpKysJYtSnaywEo2StlQimwkimLPRvKxUMjHQj4WIh9p3t15z3leM2/vzDPPf8b8f6v/7Rzj+nc67jz33icUDofDjkD4hZ5AOkPzgdB8IDQfCM0HQvOB0HwgNB8IzQdC84HQfCA0HwjNB5Lhx4f09PSIXlpaiphXW1trxvv7+6KzsrK+1c45V1ZWJrqwsFB0VVWVyauoqBBdX1//r2nDYeUDoflAQn5spnx9fYm+u7szsZWVFdG3t7cmtru7K/rm5kb09fV1xN+lpxsKhUwsI+NPF62rqzOx1dVV0bm5uRE/P0hY+UBoPhBf2o4fPDw8iH58fDSxnZ0d0bqNHR4emrynpyfRHx8fJlZUVCS6t7dX9ODgoMkLsiWx8oHQfCA0H0jS9PxYuL+/N+ONjQ3RCwsLJra1tSVa/8kDAwMmb3p62s8pRoWVD4TmA0npthMN71Jzbm5OdH9/v2jv0vLo6Ei0foiXCFj5QGg+EJoP5Mf2/Gh0dXWJ1o8rnHOuqalJ9ObmZkLnwcoHQvOB+LKHm2qUl5eL9radvLy8wObBygdC84GkTdvRD9qmpqZEZ2dnmzx9DCbRsPKB0HwgNB9ISvf819dXM97b2xPtXUIuLi6Kfnt7E93X12fyWlpa/JxiVFj5QGg+kEDbzvLyshnPz8/H9XknJydmfHFxETG3pKRE9OzsrOjOzs645hAPrHwgNB8IzQcSaM/XN1Gci22zQu/9NDY2mlh3d7fo9vZ2E/PeYkkGWPlAaD6QQPdwvWdpJiYmRK+vr4s+Pj42ec/Pz6L10nB0dNTk6YtzqQArHwjNB5KUR0e2t7fNWD8U0xfbPj8/TV5zc7PoyspKE9OnkXNycnyZZ7yw8oHQfCA0H0hS9vxonJ2difZ+Q56cnBR9dXVlYqWlpaLHxsZE6/8Tzv29oZ5IWPlAaD6QlGs70Xh5eRE9MzNjYsPDw9/+TFtbmxnrpWyiYeUDoflAflTbicb5+bnooaEh0d4jJuPj46IjtSq/YOUDoflAaD6QtOn5Gn2+R99Scc6+l+f09DSh82DlA6H5QAI9OtLQ0GDG+niHvhES66W0y8tL0d6NFt1q9PLy/f3d5NXU1MT0u2OBlQ+E5gOh+UACXWp6j2PrJ4jFxcWiY33PzcHBgWh9+8RLZmamaO+rHUdGRkQnemOFlQ+E5gOBfsPV53P0W2TX1tZMnn6jrH7htZfW1lbR+fn5JtbR0SG6oKBAdHV19X/M2F9Y+UBoPpC0fLCWLLDygdB8IDQfCM0HQvOB0HwgNB8IzQdC84HQfCA0HwjNB0LzgfwGVRwoIxkdHcEAAAAASUVORK5CYII=\" y=\"-21.894396\"/>\n   </g>\n   <g id=\"text_10\">\n    <!-- 3 -->\n    <g transform=\"translate(1091.819364 16.318125)scale(0.12 -0.12)\">\n     <use xlink:href=\"#DejaVuSans-51\"/>\n    </g>\n   </g>\n  </g>\n </g>\n <defs>\n  <clipPath id=\"p0301e4bac2\">\n   <rect height=\"94.576271\" width=\"94.576271\" x=\"26.925\" y=\"22.318125\"/>\n  </clipPath>\n  <clipPath id=\"pa2ed2b91c6\">\n   <rect height=\"94.576271\" width=\"94.576271\" x=\"140.416525\" y=\"22.318125\"/>\n  </clipPath>\n  <clipPath id=\"p8585c4b1d7\">\n   <rect height=\"94.576271\" width=\"94.576271\" x=\"253.908051\" y=\"22.318125\"/>\n  </clipPath>\n  <clipPath id=\"pad1921d153\">\n   <rect height=\"94.576271\" width=\"94.576271\" x=\"367.399576\" y=\"22.318125\"/>\n  </clipPath>\n  <clipPath id=\"pa8632ddfc3\">\n   <rect height=\"94.576271\" width=\"94.576271\" x=\"480.891102\" y=\"22.318125\"/>\n  </clipPath>\n  <clipPath id=\"p5a6c070eb7\">\n   <rect height=\"94.576271\" width=\"94.576271\" x=\"594.382627\" y=\"22.318125\"/>\n  </clipPath>\n  <clipPath id=\"pbca5a3a7d2\">\n   <rect height=\"94.576271\" width=\"94.576271\" x=\"707.874153\" y=\"22.318125\"/>\n  </clipPath>\n  <clipPath id=\"pffc4c49771\">\n   <rect height=\"94.576271\" width=\"94.576271\" x=\"821.365678\" y=\"22.318125\"/>\n  </clipPath>\n  <clipPath id=\"pb759b44f4f\">\n   <rect height=\"94.576271\" width=\"94.576271\" x=\"934.857203\" y=\"22.318125\"/>\n  </clipPath>\n  <clipPath id=\"pcdc39185f7\">\n   <rect height=\"94.576271\" width=\"94.576271\" x=\"1048.348729\" y=\"22.318125\"/>\n  </clipPath>\n </defs>\n</svg>\n"
          },
          "metadata": {
            "tags": []
          }
        }
      ]
    },
    {
      "cell_type": "code",
      "metadata": {
        "id": "XzN3pBJDvRtK",
        "colab_type": "code",
        "colab": {}
      },
      "source": [
        "results = test_pred"
      ],
      "execution_count": 0,
      "outputs": []
    },
    {
      "cell_type": "code",
      "metadata": {
        "id": "MY18Cmo6A1Ad",
        "colab_type": "code",
        "colab": {}
      },
      "source": [
        "np.savetxt('results.csv',\n",
        "          np.c_[range(1, len(x_test)+1), results],\n",
        "          delimiter = ',',\n",
        "          header = 'ImageId,Label',\n",
        "          comments = '',\n",
        "          fmt='%d')"
      ],
      "execution_count": 0,
      "outputs": []
    },
    {
      "cell_type": "code",
      "metadata": {
        "id": "c_MBhvRGoUeh",
        "colab_type": "code",
        "colab": {}
      },
      "source": [
        ""
      ],
      "execution_count": 0,
      "outputs": []
    }
  ]
}